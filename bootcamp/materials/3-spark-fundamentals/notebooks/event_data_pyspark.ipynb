{
 "cells": [
  {
   "cell_type": "code",
   "execution_count": 1,
   "id": "81cca085-dba2-42eb-a13b-fa64b6e86583",
   "metadata": {},
   "outputs": [
    {
     "name": "stderr",
     "output_type": "stream",
     "text": [
      "25/08/04 18:14:44 WARN SparkSession: Using an existing Spark session; only runtime SQL configurations will take effect.\n"
     ]
    }
   ],
   "source": [
    "from pyspark.sql import SparkSession\n",
    "from pyspark.sql.functions import expr, col\n",
    "from pyspark.sql.types import StructType, StructField, IntegerType, TimestampType, StringType\n",
    "\n",
    "spark = SparkSession.builder.appName(\"Jupyter\")\\\n",
    "    .getOrCreate()\n",
    "\n"
   ]
  },
  {
   "cell_type": "code",
   "execution_count": 63,
   "id": "5671e554",
   "metadata": {},
   "outputs": [],
   "source": [
    "spark.stop()"
   ]
  },
  {
   "cell_type": "code",
   "execution_count": 2,
   "id": "a1f8a3f6",
   "metadata": {},
   "outputs": [
    {
     "name": "stdout",
     "output_type": "stream",
     "text": [
      "+----------+-----------+--------+--------------------+----------+--------------------+----------+--------------+---------+-----------+\n",
      "| device_id|    user_id|referrer|                host|       url|          event_time|event_date|browser_family|os_family|device_type|\n",
      "+----------+-----------+--------+--------------------+----------+--------------------+----------+--------------+---------+-----------+\n",
      "| 532630305| 1037710827|    NULL| www.zachwilson.tech|         /|2021-03-08 17:27:...|2021-03-08|         Other|    Other|      Other|\n",
      "| 532630305|  925588856|    NULL|    www.eczachly.com|         /|2021-05-10 11:26:...|2021-05-10|         Other|    Other|      Other|\n",
      "| 532630305|-1180485268|    NULL|admin.zachwilson....|         /|2021-02-17 16:19:...|2021-02-17|         Other|    Other|      Other|\n",
      "| 532630305|-1044833855|    NULL| www.zachwilson.tech|         /|2021-09-24 15:53:...|2021-09-24|         Other|    Other|      Other|\n",
      "| 532630305|  747494706|    NULL| www.zachwilson.tech|         /|2021-09-26 16:03:...|2021-09-26|         Other|    Other|      Other|\n",
      "| 532630305|  747494706|    NULL|admin.zachwilson....|         /|2021-02-21 16:08:...|2021-02-21|         Other|    Other|      Other|\n",
      "| 532630305| -824540328|    NULL|admin.zachwilson....|         /|2021-09-28 17:23:...|2021-09-28|         Other|    Other|      Other|\n",
      "| 532630305| -824540328|    NULL|    www.eczachly.com|         /|2021-09-29 01:22:...|2021-09-29|         Other|    Other|      Other|\n",
      "| 532630305| 1833036683|    NULL|admin.zachwilson....|         /|2021-01-24 03:15:...|2021-01-24|         Other|    Other|      Other|\n",
      "| 532630305|-2134824313|    NULL|    www.eczachly.com|         /|2021-01-25 00:03:...|2021-01-25|         Other|    Other|      Other|\n",
      "|-906264142|-1809929467|    NULL|admin.zachwilson....|/.git/HEAD|2021-02-22 01:36:...|2021-02-22|          curl|    Other|      Other|\n",
      "|-906264142| 2002285749|    NULL|    www.eczachly.com|         /|2021-02-22 02:25:...|2021-02-22|          curl|    Other|      Other|\n",
      "| 532630305|-1562965412|    NULL| www.zachwilson.tech|         /|2021-01-30 20:46:...|2021-01-30|         Other|    Other|      Other|\n",
      "| 532630305|-1099860451|    NULL|    www.eczachly.com|         /|2021-02-04 23:49:...|2021-02-04|         Other|    Other|      Other|\n",
      "|-906264142| 1246896869|    NULL| www.zachwilson.tech|         /|2021-02-22 02:50:...|2021-02-22|          curl|    Other|      Other|\n",
      "|-906264142| -629331502|    NULL|admin.zachwilson....|/.git/HEAD|2021-02-22 23:51:...|2021-02-22|          curl|    Other|      Other|\n",
      "|-906264142|-1913422462|    NULL|    www.eczachly.com|         /|2021-02-23 00:17:...|2021-02-23|          curl|    Other|      Other|\n",
      "| 532630305|   50429624|    NULL|    www.eczachly.com|         /|2022-12-28 01:38:...|2022-12-28|         Other|    Other|      Other|\n",
      "| 532630305|  222389292|    NULL| www.zachwilson.tech|         /|2022-12-28 05:23:...|2022-12-28|         Other|    Other|      Other|\n",
      "| 532630305| -779924777|    NULL| www.zachwilson.tech|         /|2022-12-28 16:45:...|2022-12-28|         Other|    Other|      Other|\n",
      "+----------+-----------+--------+--------------------+----------+--------------------+----------+--------------+---------+-----------+\n",
      "only showing top 20 rows\n",
      "\n"
     ]
    }
   ],
   "source": [
    "events_schema = StructType([\n",
    "    StructField(\"user_id\", IntegerType(), False),\n",
    "    StructField(\"device_id\", IntegerType(), False),\n",
    "    StructField(\"referrer\", StringType()),\n",
    "    StructField(\"host\", StringType(), False),\n",
    "    StructField(\"url\", StringType(), False),\n",
    "    StructField(\"event_time\", TimestampType(), False)\n",
    "])\n",
    "devices_schema = StructType([\n",
    "    StructField(\"device_id\", IntegerType(), False),\n",
    "    StructField(\"browser_type\", StringType()),\n",
    "    StructField(\"os_type\", StringType(), False),\n",
    "    StructField(\"device_type\", StringType(), False)\n",
    "])\n",
    "\n",
    "events = spark.read.option(\"header\", \"true\")\\\n",
    "    .csv(\"/home/iceberg/data/events.csv\", events_schema)\\\n",
    "    .withColumn(\"event_date\", expr(\"DATE(DATE_TRUNC('day', event_time))\"))\n",
    "devices = spark.read.option(\"header\",\"true\")\\\n",
    "    .csv(\"/home/iceberg/data/devices.csv\", devices_schema)\n",
    "\n",
    "df = events.join(devices,on=\"device_id\",how=\"left\")\n",
    "df = df.withColumnsRenamed({'browser_type': 'browser_family', 'os_type': 'os_family'})\n",
    "\n",
    "df.show()"
   ]
  },
  {
   "cell_type": "code",
   "execution_count": null,
   "id": "ba5476ad",
   "metadata": {},
   "outputs": [],
   "source": [
    "df.schema"
   ]
  },
  {
   "cell_type": "code",
   "execution_count": 3,
   "id": "dce068df-3e21-429a-8716-abdd13e9406c",
   "metadata": {},
   "outputs": [
    {
     "name": "stderr",
     "output_type": "stream",
     "text": [
      "                                                                                \r"
     ]
    },
    {
     "name": "stdout",
     "output_type": "stream",
     "text": [
      "+-----------+-----------+--------+--------------------+------------+--------------------+----------+--------------+---------+------------------+\n",
      "|  device_id|    user_id|referrer|                host|         url|          event_time|event_date|browser_family|os_family|       device_type|\n",
      "+-----------+-----------+--------+--------------------+------------+--------------------+----------+--------------+---------+------------------+\n",
      "| -643696601| 1272828233|    NULL|admin.zachwilson....|           /|2021-01-17 02:54:...|2021-01-17|        Chrome|  Windows|             Other|\n",
      "|  532630305|  747494706|    NULL|admin.zachwilson....|           /|2021-01-17 15:41:...|2021-01-17|         Other|    Other|             Other|\n",
      "|  532630305|  683643637|    NULL|admin.zachwilson....|           /|2021-01-17 19:04:...|2021-01-17|         Other|    Other|             Other|\n",
      "|  532630305|  683643637|    NULL|    www.eczachly.com|           /|2021-01-17 14:34:...|2021-01-17|         Other|    Other|             Other|\n",
      "| -290659081| 2075040354|    NULL|    www.eczachly.com|           /|2021-01-17 00:35:...|2021-01-17|       bingbot|    Other|            Spider|\n",
      "| -290659081|-1735275120|    NULL|    www.eczachly.com|/sitemap.xml|2021-01-17 03:23:...|2021-01-17|       bingbot|    Other|            Spider|\n",
      "|-1217993711| -432824190|    NULL|    www.eczachly.com|      /about|2021-01-17 07:27:...|2021-01-17|     AhrefsBot|    Other|            Spider|\n",
      "| -290659081| -773096576|    NULL|    www.eczachly.com|           /|2021-01-17 11:34:...|2021-01-17|       bingbot|    Other|            Spider|\n",
      "| -158310583|  -23967760|    NULL|    www.eczachly.com|           /|2021-01-17 11:37:...|2021-01-17|      PetalBot|    Other|            Spider|\n",
      "| -290659081| -233460261|    NULL|    www.eczachly.com|           /|2021-01-17 12:05:...|2021-01-17|       bingbot|    Other|            Spider|\n",
      "| 1088283544| -648945006|    NULL|    www.eczachly.com|           /|2021-01-17 13:34:...|2021-01-17|      PetalBot|  Android|Generic Smartphone|\n",
      "| -290659081| 2075040354|    NULL|    www.eczachly.com|           /|2021-01-17 14:44:...|2021-01-17|       bingbot|    Other|            Spider|\n",
      "| 1847648591|  694175222|    NULL|    www.eczachly.com|           /|2021-01-17 16:15:...|2021-01-17|     AhrefsBot|    Other|            Spider|\n",
      "|-1217993711| 1460458281|    NULL|    www.eczachly.com|    /contact|2021-01-17 16:15:...|2021-01-17|     AhrefsBot|    Other|            Spider|\n",
      "| -290659081|-1820003202|    NULL|    www.eczachly.com|           /|2021-01-17 17:26:...|2021-01-17|       bingbot|    Other|            Spider|\n",
      "| -290659081| 2075040354|    NULL|    www.eczachly.com|           /|2021-01-17 18:12:...|2021-01-17|       bingbot|    Other|            Spider|\n",
      "| -643696601| 1272828233|    NULL|    www.eczachly.com|           /|2021-01-17 18:47:...|2021-01-17|        Chrome|  Windows|             Other|\n",
      "|-1217993711|-1760925307|    NULL|    www.eczachly.com|       /blog|2021-01-17 20:23:...|2021-01-17|     AhrefsBot|    Other|            Spider|\n",
      "| -290659081| -233460261|    NULL|    www.eczachly.com|/sitemap.xml|2021-01-17 20:56:...|2021-01-17|       bingbot|    Other|            Spider|\n",
      "|-2012543895| -678832588|    NULL|    www.eczachly.com|           /|2021-01-17 21:46:...|2021-01-17|     Googlebot|    Other|            Spider|\n",
      "+-----------+-----------+--------+--------------------+------------+--------------------+----------+--------------+---------+------------------+\n",
      "only showing top 20 rows\n",
      "\n",
      "+-----------+-----------+--------+--------------------+--------------------+--------------------+----------+--------------+---------+------------------+\n",
      "|  device_id|    user_id|referrer|                host|                 url|          event_time|event_date|browser_family|os_family|       device_type|\n",
      "+-----------+-----------+--------+--------------------+--------------------+--------------------+----------+--------------+---------+------------------+\n",
      "| -643696601| 1272828233|    NULL|admin.zachwilson....|                   /|2021-01-02 13:53:...|2021-01-02|        Chrome|  Windows|             Other|\n",
      "|  532630305|  747494706|    NULL|admin.zachwilson....|                   /|2021-01-02 19:36:...|2021-01-02|         Other|    Other|             Other|\n",
      "|  898871897| 2110046626|    NULL|admin.zachwilson....|       /wp-login.php|2021-01-02 19:57:...|2021-01-02|        Chrome|    Linux|             Other|\n",
      "| -643696601| 1272828233|    NULL|admin.zachwilson....|                   /|2021-01-02 21:05:...|2021-01-02|        Chrome|  Windows|             Other|\n",
      "| -643696601| 1272828233|    NULL|admin.zachwilson....|                   /|2021-01-02 21:37:...|2021-01-02|        Chrome|  Windows|             Other|\n",
      "|-2012543895| 1399665425|    NULL|    www.eczachly.com|                   /|2021-01-02 00:20:...|2021-01-02|     Googlebot|    Other|            Spider|\n",
      "| -290659081|  125243313|    NULL|    www.eczachly.com|                   /|2021-01-02 02:06:...|2021-01-02|       bingbot|    Other|            Spider|\n",
      "| -290659081|  632739597|    NULL|    www.eczachly.com|/blog/what-exactl...|2021-01-02 02:58:...|2021-01-02|       bingbot|    Other|            Spider|\n",
      "| -290659081|-1780827820|    NULL|    www.eczachly.com|                   /|2021-01-02 04:45:...|2021-01-02|       bingbot|    Other|            Spider|\n",
      "| -290659081|  632739597|    NULL|    www.eczachly.com|                   /|2021-01-02 05:14:...|2021-01-02|       bingbot|    Other|            Spider|\n",
      "| -158310583| 1047962242|    NULL|    www.eczachly.com|                   /|2021-01-02 11:40:...|2021-01-02|      PetalBot|    Other|            Spider|\n",
      "| -290659081|  273700037|    NULL|    www.eczachly.com|                   /|2021-01-02 07:51:...|2021-01-02|       bingbot|    Other|            Spider|\n",
      "| -643696601| 1272828233|    NULL|    www.eczachly.com|                   /|2021-01-02 08:14:...|2021-01-02|        Chrome|  Windows|             Other|\n",
      "| 1088283544|  210988258|    NULL|    www.eczachly.com|            /contact|2021-01-02 11:11:...|2021-01-02|      PetalBot|  Android|Generic Smartphone|\n",
      "| -290659081|  273700037|    NULL|    www.eczachly.com|                   /|2021-01-02 11:23:...|2021-01-02|       bingbot|    Other|            Spider|\n",
      "| -290659081|  632739597|    NULL|    www.eczachly.com|        /sitemap.xml|2021-01-02 14:10:...|2021-01-02|       bingbot|    Other|            Spider|\n",
      "| -290659081|  659201289|    NULL|    www.eczachly.com|/blog/life-of-a-s...|2021-01-02 15:53:...|2021-01-02|       bingbot|    Other|            Spider|\n",
      "|-2012543895| 1150073567|    NULL| www.zachwilson.tech|                   /|2021-01-02 00:14:...|2021-01-02|     Googlebot|    Other|            Spider|\n",
      "|-1883465659| 1150073567|    NULL| www.zachwilson.tech|               /blog|2021-01-02 00:14:...|2021-01-02|     Googlebot|  Android|            Spider|\n",
      "| -223216734| 1744817842|    NULL| www.zachwilson.tech|/graph/stock-tick...|2021-01-02 00:23:...|2021-01-02|   FacebookBot|    Other|            Spider|\n",
      "+-----------+-----------+--------+--------------------+--------------------+--------------------+----------+--------------+---------+------------------+\n",
      "only showing top 20 rows\n",
      "\n"
     ]
    }
   ],
   "source": [
    "sorted = df.repartition(10, col(\"event_date\"))\\\n",
    "    .sortWithinPartitions(col(\"event_date\"), col(\"host\"))\\\n",
    "    .withColumn(\"event_time\", col(\"event_time\").cast(\"timestamp\")) \n",
    "\n",
    "sortedTwo = df.repartition(10, col(\"event_date\"))\\\n",
    "    .sort(col(\"event_date\"), col(\"host\"))\\\n",
    "    .withColumn(\"event_time\", col(\"event_time\").cast(\"timestamp\")) \n",
    "\n",
    "sorted.show()\n",
    "sortedTwo.show()\n"
   ]
  },
  {
   "cell_type": "code",
   "execution_count": null,
   "id": "e75099ce-0e80-4903-8d3e-e4842a9a99f7",
   "metadata": {},
   "outputs": [],
   "source": [
    "# .sortWithinPartitions() sorts within partitions, whereas .sort() is a global sort, which is very slow\n",
    "\n",
    "# Note - exchange is synonymous with Shuffle"
   ]
  },
  {
   "cell_type": "code",
   "execution_count": 4,
   "id": "5cc0bb63-2ef0-4a53-af25-881fbd785d55",
   "metadata": {},
   "outputs": [
    {
     "name": "stdout",
     "output_type": "stream",
     "text": [
      "== Physical Plan ==\n",
      "AdaptiveSparkPlan isFinalPlan=false\n",
      "+- Sort [event_date#12 ASC NULLS FIRST, host#3 ASC NULLS FIRST], false, 0\n",
      "   +- Exchange hashpartitioning(event_date#12, 10), REPARTITION_BY_NUM, [plan_id=367]\n",
      "      +- Project [device_id#1, user_id#0, referrer#2, host#3, url#4, event_time#5, event_date#12, browser_type#22 AS browser_family#40, os_type#23 AS os_family#41, device_type#24]\n",
      "         +- BroadcastHashJoin [device_id#1], [device_id#21], LeftOuter, BuildRight, false\n",
      "            :- Project [user_id#0, device_id#1, referrer#2, host#3, url#4, event_time#5, cast(date_trunc(day, event_time#5, Some(Etc/UTC)) as date) AS event_date#12]\n",
      "            :  +- FileScan csv [user_id#0,device_id#1,referrer#2,host#3,url#4,event_time#5] Batched: false, DataFilters: [], Format: CSV, Location: InMemoryFileIndex(1 paths)[file:/home/iceberg/data/events.csv], PartitionFilters: [], PushedFilters: [], ReadSchema: struct<user_id:int,device_id:int,referrer:string,host:string,url:string,event_time:timestamp>\n",
      "            +- BroadcastExchange HashedRelationBroadcastMode(List(cast(input[0, int, false] as bigint)),false), [plan_id=364]\n",
      "               +- Filter isnotnull(device_id#21)\n",
      "                  +- FileScan csv [device_id#21,browser_type#22,os_type#23,device_type#24] Batched: false, DataFilters: [isnotnull(device_id#21)], Format: CSV, Location: InMemoryFileIndex(1 paths)[file:/home/iceberg/data/devices.csv], PartitionFilters: [], PushedFilters: [IsNotNull(device_id)], ReadSchema: struct<device_id:int,browser_type:string,os_type:string,device_type:string>\n",
      "\n",
      "\n",
      "== Physical Plan ==\n",
      "AdaptiveSparkPlan isFinalPlan=false\n",
      "+- Sort [event_date#12 ASC NULLS FIRST, host#3 ASC NULLS FIRST], true, 0\n",
      "   +- Exchange rangepartitioning(event_date#12 ASC NULLS FIRST, host#3 ASC NULLS FIRST, 200), ENSURE_REQUIREMENTS, [plan_id=408]\n",
      "      +- Exchange hashpartitioning(event_date#12, 10), REPARTITION_BY_NUM, [plan_id=406]\n",
      "         +- Project [device_id#1, user_id#0, referrer#2, host#3, url#4, event_time#5, event_date#12, browser_type#22 AS browser_family#40, os_type#23 AS os_family#41, device_type#24]\n",
      "            +- BroadcastHashJoin [device_id#1], [device_id#21], LeftOuter, BuildRight, false\n",
      "               :- Project [user_id#0, device_id#1, referrer#2, host#3, url#4, event_time#5, cast(date_trunc(day, event_time#5, Some(Etc/UTC)) as date) AS event_date#12]\n",
      "               :  +- FileScan csv [user_id#0,device_id#1,referrer#2,host#3,url#4,event_time#5] Batched: false, DataFilters: [], Format: CSV, Location: InMemoryFileIndex(1 paths)[file:/home/iceberg/data/events.csv], PartitionFilters: [], PushedFilters: [], ReadSchema: struct<user_id:int,device_id:int,referrer:string,host:string,url:string,event_time:timestamp>\n",
      "               +- BroadcastExchange HashedRelationBroadcastMode(List(cast(input[0, int, false] as bigint)),false), [plan_id=403]\n",
      "                  +- Filter isnotnull(device_id#21)\n",
      "                     +- FileScan csv [device_id#21,browser_type#22,os_type#23,device_type#24] Batched: false, DataFilters: [isnotnull(device_id#21)], Format: CSV, Location: InMemoryFileIndex(1 paths)[file:/home/iceberg/data/devices.csv], PartitionFilters: [], PushedFilters: [IsNotNull(device_id)], ReadSchema: struct<device_id:int,browser_type:string,os_type:string,device_type:string>\n",
      "\n",
      "\n"
     ]
    }
   ],
   "source": [
    "sorted = df.repartition(10, col(\"event_date\"))\\\n",
    "    .sortWithinPartitions(col(\"event_date\"), col(\"host\"))\\\n",
    "    .withColumn(\"event_time\", col(\"event_time\").cast(\"timestamp\")) \n",
    "\n",
    "sortedTwo = df.repartition(10, col(\"event_date\"))\\\n",
    "    .sort(col(\"event_date\"), col(\"host\"))\\\n",
    "    .withColumn(\"event_time\", col(\"event_time\").cast(\"timestamp\")) \n",
    "\n",
    "sorted.explain()\n",
    "sortedTwo.explain()"
   ]
  },
  {
   "cell_type": "code",
   "execution_count": 5,
   "id": "d09fdada",
   "metadata": {},
   "outputs": [
    {
     "name": "stdout",
     "output_type": "stream",
     "text": [
      "+-------------+\n",
      "|      catalog|\n",
      "+-------------+\n",
      "|         demo|\n",
      "|spark_catalog|\n",
      "+-------------+\n",
      "\n"
     ]
    }
   ],
   "source": [
    "spark.sql(\"SHOW CATALOGS\").show()"
   ]
  },
  {
   "cell_type": "code",
   "execution_count": 6,
   "id": "09a06e56",
   "metadata": {},
   "outputs": [
    {
     "data": {
      "text/plain": [
       "'http://minio:9000'"
      ]
     },
     "execution_count": 6,
     "metadata": {},
     "output_type": "execute_result"
    }
   ],
   "source": [
    "# spark.catalog.currentCatalog()\n",
    "# spark.catalog.setCurrentCatalog('spark_catalog')\n",
    "spark.conf.get('spark.sql.catalog.demo.s3.endpoint')\n"
   ]
  },
  {
   "cell_type": "code",
   "execution_count": 19,
   "id": "25fd7344",
   "metadata": {},
   "outputs": [
    {
     "data": {
      "text/plain": [
       "DataFrame[]"
      ]
     },
     "execution_count": 19,
     "metadata": {},
     "output_type": "execute_result"
    }
   ],
   "source": [
    "spark.sql(\"\"\"\n",
    "    CREATE DATABASE IF NOT EXISTS db\n",
    "\"\"\")"
   ]
  },
  {
   "cell_type": "code",
   "execution_count": 7,
   "id": "3d3d71ab",
   "metadata": {},
   "outputs": [
    {
     "name": "stdout",
     "output_type": "stream",
     "text": [
      "+---------+\n",
      "|namespace|\n",
      "+---------+\n",
      "+---------+\n",
      "\n"
     ]
    }
   ],
   "source": [
    "spark.sql(\"\"\"\n",
    "    SHOW NAMESPACES\n",
    "\"\"\").show()\n",
    "\n",
    "#spark.sql(\"\"\"\n",
    "#    DROP NAMESPACE db\n",
    "#\"\"\")"
   ]
  },
  {
   "cell_type": "code",
   "execution_count": 11,
   "id": "54a7a5a8",
   "metadata": {},
   "outputs": [
    {
     "data": {
      "text/plain": [
       "DataFrame[]"
      ]
     },
     "execution_count": 11,
     "metadata": {},
     "output_type": "execute_result"
    }
   ],
   "source": [
    "spark.sql(\"\"\"\n",
    "    CREATE TABLE IF NOT EXISTS bootcamp.events (\n",
    "        url STRING,\n",
    "        referrer STRING,\n",
    "        browser_family STRING,\n",
    "        os_family STRING,\n",
    "        device_family STRING,\n",
    "        host STRING,\n",
    "        event_time TIMESTAMP,\n",
    "        event_date DATE\n",
    "    )\n",
    "    USING iceberg\n",
    "    PARTITIONED BY (year(event_time))\n",
    "    TBLPROPERTIES ('write.distribution-mode'='hash')\n",
    "\"\"\")"
   ]
  },
  {
   "cell_type": "code",
   "execution_count": 8,
   "id": "d9c85a67",
   "metadata": {},
   "outputs": [
    {
     "name": "stdout",
     "output_type": "stream",
     "text": [
      "+---------+\n",
      "|namespace|\n",
      "+---------+\n",
      "+---------+\n",
      "\n"
     ]
    }
   ],
   "source": [
    "spark.sql(\"SHOW DATABASES\").show()"
   ]
  },
  {
   "cell_type": "code",
   "execution_count": 9,
   "id": "d800dca7-2737-4192-b5c0-c1806c105e15",
   "metadata": {},
   "outputs": [
    {
     "data": {
      "text/html": [
       "<table>\n",
       "    <thead>\n",
       "        <tr>\n",
       "        </tr>\n",
       "    </thead>\n",
       "    <tbody>\n",
       "    </tbody>\n",
       "</table>"
      ],
      "text/plain": [
       "++\n",
       "||\n",
       "++\n",
       "++"
      ]
     },
     "execution_count": 9,
     "metadata": {},
     "output_type": "execute_result"
    }
   ],
   "source": [
    "%%sql\n",
    "\n",
    "CREATE NAMESPACE IF NOT EXISTS bootcamp"
   ]
  },
  {
   "cell_type": "code",
   "execution_count": 10,
   "id": "b5d822d3",
   "metadata": {},
   "outputs": [
    {
     "data": {
      "text/html": [
       "<table>\n",
       "    <thead>\n",
       "        <tr>\n",
       "            <th>namespace</th>\n",
       "        </tr>\n",
       "    </thead>\n",
       "    <tbody>\n",
       "        <tr>\n",
       "            <td>bootcamp</td>\n",
       "        </tr>\n",
       "    </tbody>\n",
       "</table>"
      ],
      "text/plain": [
       "+-----------+\n",
       "| namespace |\n",
       "+-----------+\n",
       "|  bootcamp |\n",
       "+-----------+"
      ]
     },
     "execution_count": 10,
     "metadata": {},
     "output_type": "execute_result"
    }
   ],
   "source": [
    "%%sql\n",
    "\n",
    "SHOW NAMESPACES"
   ]
  },
  {
   "cell_type": "code",
   "execution_count": null,
   "id": "001e2806",
   "metadata": {},
   "outputs": [],
   "source": [
    "%%sql\n",
    "\n",
    "USE bootcamp"
   ]
  },
  {
   "cell_type": "code",
   "execution_count": null,
   "id": "b08f27c1",
   "metadata": {},
   "outputs": [],
   "source": [
    "%%sql\n",
    "\n",
    "DROP NAMESPACE bootcamp"
   ]
  },
  {
   "cell_type": "code",
   "execution_count": null,
   "id": "31a7ff14",
   "metadata": {},
   "outputs": [],
   "source": [
    "%%sql\n",
    "\n",
    "SHOW TABLES FROM bootcamp"
   ]
  },
  {
   "cell_type": "code",
   "execution_count": 42,
   "id": "e83cd813-d5c0-4d67-8285-849b882b8bfa",
   "metadata": {},
   "outputs": [
    {
     "data": {
      "text/html": [
       "<table>\n",
       "    <thead>\n",
       "        <tr>\n",
       "        </tr>\n",
       "    </thead>\n",
       "    <tbody>\n",
       "    </tbody>\n",
       "</table>"
      ],
      "text/plain": [
       "++\n",
       "||\n",
       "++\n",
       "++"
      ]
     },
     "execution_count": 42,
     "metadata": {},
     "output_type": "execute_result"
    }
   ],
   "source": [
    "%%sql\n",
    "\n",
    "DROP TABLE IF EXISTS bootcamp.events"
   ]
  },
  {
   "cell_type": "code",
   "execution_count": 43,
   "id": "b403139c-f342-426a-a6de-81cd86d1cd73",
   "metadata": {},
   "outputs": [
    {
     "data": {
      "text/html": [
       "<table>\n",
       "    <thead>\n",
       "        <tr>\n",
       "        </tr>\n",
       "    </thead>\n",
       "    <tbody>\n",
       "    </tbody>\n",
       "</table>"
      ],
      "text/plain": [
       "++\n",
       "||\n",
       "++\n",
       "++"
      ]
     },
     "execution_count": 43,
     "metadata": {},
     "output_type": "execute_result"
    }
   ],
   "source": [
    "%%sql\n",
    "\n",
    "DROP TABLE IF EXISTS bootcamp.events_sorted"
   ]
  },
  {
   "cell_type": "code",
   "execution_count": 44,
   "id": "1307093f",
   "metadata": {},
   "outputs": [
    {
     "data": {
      "text/html": [
       "<table>\n",
       "    <thead>\n",
       "        <tr>\n",
       "        </tr>\n",
       "    </thead>\n",
       "    <tbody>\n",
       "    </tbody>\n",
       "</table>"
      ],
      "text/plain": [
       "++\n",
       "||\n",
       "++\n",
       "++"
      ]
     },
     "execution_count": 44,
     "metadata": {},
     "output_type": "execute_result"
    }
   ],
   "source": [
    "%%sql\n",
    "\n",
    "DROP TABLE IF EXISTS bootcamp.events_unsorted"
   ]
  },
  {
   "cell_type": "code",
   "execution_count": 45,
   "id": "d1b197a9-1b63-4130-acbe-01418eede0e5",
   "metadata": {
    "scrolled": true
   },
   "outputs": [
    {
     "data": {
      "text/html": [
       "<table>\n",
       "    <thead>\n",
       "        <tr>\n",
       "        </tr>\n",
       "    </thead>\n",
       "    <tbody>\n",
       "    </tbody>\n",
       "</table>"
      ],
      "text/plain": [
       "++\n",
       "||\n",
       "++\n",
       "++"
      ]
     },
     "execution_count": 45,
     "metadata": {},
     "output_type": "execute_result"
    }
   ],
   "source": [
    "%%sql\n",
    "\n",
    "CREATE TABLE IF NOT EXISTS bootcamp.events (\n",
    "    device_id INTEGER,\n",
    "    user_id INTEGER, \n",
    "    referrer STRING,\n",
    "    url STRING,\n",
    "    browser_family STRING,\n",
    "    os_family STRING,\n",
    "    device_type STRING,\n",
    "    host STRING,\n",
    "    event_time TIMESTAMP,\n",
    "    event_date DATE\n",
    ")\n",
    "USING iceberg\n",
    "PARTITIONED BY (year(event_time))\n",
    "TBLPROPERTIES ('write.distribution-mode'='hash');\n"
   ]
  },
  {
   "cell_type": "code",
   "execution_count": 12,
   "id": "c40b143f-295e-4875-bd7f-12409312b800",
   "metadata": {
    "scrolled": true
   },
   "outputs": [
    {
     "data": {
      "text/html": [
       "<table>\n",
       "    <thead>\n",
       "        <tr>\n",
       "        </tr>\n",
       "    </thead>\n",
       "    <tbody>\n",
       "    </tbody>\n",
       "</table>"
      ],
      "text/plain": [
       "++\n",
       "||\n",
       "++\n",
       "++"
      ]
     },
     "execution_count": 12,
     "metadata": {},
     "output_type": "execute_result"
    }
   ],
   "source": [
    "%%sql\n",
    "\n",
    "\n",
    "CREATE TABLE IF NOT EXISTS bootcamp.events_sorted (\n",
    "    device_id INTEGER,\n",
    "    user_id INTEGER, \n",
    "    referrer STRING,\n",
    "    url STRING,\n",
    "    browser_family STRING,\n",
    "    os_family STRING,\n",
    "    device_type STRING,\n",
    "    host STRING,\n",
    "    event_time TIMESTAMP,\n",
    "    event_date DATE\n",
    ")\n",
    "USING iceberg\n",
    "PARTITIONED BY (year(event_time))\n",
    "TBLPROPERTIES ('write.distribution-mode'='hash');"
   ]
  },
  {
   "cell_type": "code",
   "execution_count": 13,
   "id": "00c86e79-a911-464c-ad58-acc92859dcc6",
   "metadata": {
    "scrolled": true
   },
   "outputs": [
    {
     "data": {
      "text/html": [
       "<table>\n",
       "    <thead>\n",
       "        <tr>\n",
       "        </tr>\n",
       "    </thead>\n",
       "    <tbody>\n",
       "    </tbody>\n",
       "</table>"
      ],
      "text/plain": [
       "++\n",
       "||\n",
       "++\n",
       "++"
      ]
     },
     "execution_count": 13,
     "metadata": {},
     "output_type": "execute_result"
    }
   ],
   "source": [
    "%%sql\n",
    "\n",
    "\n",
    "CREATE TABLE IF NOT EXISTS bootcamp.events_unsorted (\n",
    "    device_id INTEGER,\n",
    "    user_id INTEGER, \n",
    "    referrer STRING,\n",
    "    url STRING,\n",
    "    browser_family STRING,\n",
    "    os_family STRING,\n",
    "    device_type STRING,\n",
    "    host STRING,\n",
    "    event_time TIMESTAMP,\n",
    "    event_date DATE\n",
    ")\n",
    "USING iceberg\n",
    "PARTITIONED BY (year(event_time))\n",
    "TBLPROPERTIES ('write.distribution-mode'='hash');"
   ]
  },
  {
   "cell_type": "code",
   "execution_count": 14,
   "id": "a97c3c25",
   "metadata": {},
   "outputs": [
    {
     "data": {
      "text/html": [
       "<table>\n",
       "    <thead>\n",
       "        <tr>\n",
       "            <th>col_name</th>\n",
       "            <th>data_type</th>\n",
       "            <th>comment</th>\n",
       "        </tr>\n",
       "    </thead>\n",
       "    <tbody>\n",
       "        <tr>\n",
       "            <td>device_id</td>\n",
       "            <td>int</td>\n",
       "            <td>None</td>\n",
       "        </tr>\n",
       "        <tr>\n",
       "            <td>user_id</td>\n",
       "            <td>int</td>\n",
       "            <td>None</td>\n",
       "        </tr>\n",
       "        <tr>\n",
       "            <td>referrer</td>\n",
       "            <td>string</td>\n",
       "            <td>None</td>\n",
       "        </tr>\n",
       "        <tr>\n",
       "            <td>url</td>\n",
       "            <td>string</td>\n",
       "            <td>None</td>\n",
       "        </tr>\n",
       "        <tr>\n",
       "            <td>browser_family</td>\n",
       "            <td>string</td>\n",
       "            <td>None</td>\n",
       "        </tr>\n",
       "        <tr>\n",
       "            <td>os_family</td>\n",
       "            <td>string</td>\n",
       "            <td>None</td>\n",
       "        </tr>\n",
       "        <tr>\n",
       "            <td>device_type</td>\n",
       "            <td>string</td>\n",
       "            <td>None</td>\n",
       "        </tr>\n",
       "        <tr>\n",
       "            <td>host</td>\n",
       "            <td>string</td>\n",
       "            <td>None</td>\n",
       "        </tr>\n",
       "        <tr>\n",
       "            <td>event_time</td>\n",
       "            <td>timestamp</td>\n",
       "            <td>None</td>\n",
       "        </tr>\n",
       "        <tr>\n",
       "            <td>event_date</td>\n",
       "            <td>date</td>\n",
       "            <td>None</td>\n",
       "        </tr>\n",
       "        <tr>\n",
       "            <td></td>\n",
       "            <td></td>\n",
       "            <td></td>\n",
       "        </tr>\n",
       "        <tr>\n",
       "            <td># Partitioning</td>\n",
       "            <td></td>\n",
       "            <td></td>\n",
       "        </tr>\n",
       "        <tr>\n",
       "            <td>Part 0</td>\n",
       "            <td>years(event_time)</td>\n",
       "            <td></td>\n",
       "        </tr>\n",
       "    </tbody>\n",
       "</table>"
      ],
      "text/plain": [
       "+----------------+-------------------+---------+\n",
       "|       col_name |         data_type | comment |\n",
       "+----------------+-------------------+---------+\n",
       "|      device_id |               int |    None |\n",
       "|        user_id |               int |    None |\n",
       "|       referrer |            string |    None |\n",
       "|            url |            string |    None |\n",
       "| browser_family |            string |    None |\n",
       "|      os_family |            string |    None |\n",
       "|    device_type |            string |    None |\n",
       "|           host |            string |    None |\n",
       "|     event_time |         timestamp |    None |\n",
       "|     event_date |              date |    None |\n",
       "|                |                   |         |\n",
       "| # Partitioning |                   |         |\n",
       "|         Part 0 | years(event_time) |         |\n",
       "+----------------+-------------------+---------+"
      ]
     },
     "execution_count": 14,
     "metadata": {},
     "output_type": "execute_result"
    }
   ],
   "source": [
    "%%sql\n",
    "\n",
    "describe table bootcamp.events_unsorted"
   ]
  },
  {
   "cell_type": "code",
   "execution_count": 15,
   "id": "424b7220",
   "metadata": {},
   "outputs": [
    {
     "data": {
      "text/plain": [
       "[Table(name='events', catalog='demo', namespace=['bootcamp'], description=None, tableType='MANAGED', isTemporary=False),\n",
       " Table(name='events_sorted', catalog='demo', namespace=['bootcamp'], description=None, tableType='MANAGED', isTemporary=False),\n",
       " Table(name='events_unsorted', catalog='demo', namespace=['bootcamp'], description=None, tableType='MANAGED', isTemporary=False)]"
      ]
     },
     "execution_count": 15,
     "metadata": {},
     "output_type": "execute_result"
    }
   ],
   "source": [
    "spark.catalog.listTables('bootcamp')"
   ]
  },
  {
   "cell_type": "code",
   "execution_count": 16,
   "id": "2c1254bc-9ecf-4c86-bfd9-de81ecfbb78b",
   "metadata": {},
   "outputs": [
    {
     "name": "stderr",
     "output_type": "stream",
     "text": [
      "                                                                                \r"
     ]
    }
   ],
   "source": [
    "\n",
    "start_df = df.repartition(4, col(\"event_time\"))\n",
    "    \n",
    "first_sort_df = start_df.sortWithinPartitions(col(\"event_time\"), col(\"host\"))\n",
    "\n",
    "start_df.writeTo(\"demo.bootcamp.events_unsorted\").append()\n",
    "first_sort_df.writeTo(\"demo.bootcamp.events_sorted\").append()"
   ]
  },
  {
   "cell_type": "code",
   "execution_count": 17,
   "id": "dfac4fa4",
   "metadata": {},
   "outputs": [
    {
     "name": "stdout",
     "output_type": "stream",
     "text": [
      "+----------+-----------+--------+--------------------+--------------------+--------------------+----------+-----------------+---------+-----------+\n",
      "| device_id|    user_id|referrer|                host|                 url|          event_time|event_date|   browser_family|os_family|device_type|\n",
      "+----------+-----------+--------+--------------------+--------------------+--------------------+----------+-----------------+---------+-----------+\n",
      "| 532630305|-1044833855|    NULL| www.zachwilson.tech|                   /|2021-09-24 15:53:...|2021-09-24|            Other|    Other|      Other|\n",
      "| 532630305| -824540328|    NULL|    www.eczachly.com|                   /|2021-09-29 01:22:...|2021-09-29|            Other|    Other|      Other|\n",
      "|-906264142|-1913422462|    NULL|    www.eczachly.com|                   /|2021-02-23 00:17:...|2021-02-23|             curl|    Other|      Other|\n",
      "| 532630305|  925588856|    NULL| www.zachwilson.tech|                   /|2021-05-10 18:12:...|2021-05-10|            Other|    Other|      Other|\n",
      "| 532630305|  747494706|    NULL|admin.zachwilson....|                   /|2021-05-16 17:58:...|2021-05-16|            Other|    Other|      Other|\n",
      "| 532630305| 1095049125|    NULL| www.zachwilson.tech|                   /|2021-05-17 18:18:...|2021-05-17|            Other|    Other|      Other|\n",
      "| 532630305| -707954698|    NULL|admin.zachwilson....|                   /|2021-06-19 05:55:...|2021-06-19|            Other|    Other|      Other|\n",
      "| 532630305|  747494706|    NULL|admin.zachwilson....|                   /|2021-06-19 15:09:...|2021-06-19|            Other|    Other|      Other|\n",
      "|-733097781|    5890109|    NULL| www.zachwilson.tech|                   /|2023-01-09 20:10:...|2023-01-09|             curl|    Other|      Other|\n",
      "| 532630305|  696863716|    NULL|admin.zachwilson....|                   /|2023-01-10 04:43:...|2023-01-10|            Other|    Other|      Other|\n",
      "| 532630305| 1193961399|    NULL|admin.zachwilson....|                   /|2021-06-20 18:48:...|2021-06-20|            Other|    Other|      Other|\n",
      "| 532630305|-1180485268|    NULL|    www.eczachly.com|                   /|2021-06-28 16:51:...|2021-06-28|            Other|    Other|      Other|\n",
      "| 532630305|  747494706|    NULL|    www.eczachly.com|                   /|2021-06-28 20:56:...|2021-06-28|            Other|    Other|      Other|\n",
      "| 532630305| 1736348257|    NULL|admin.zachwilson....|                   /|2021-06-29 16:36:...|2021-06-29|            Other|    Other|      Other|\n",
      "| 532630305|-1188109378|    NULL| www.zachwilson.tech|                   /|2021-07-02 12:33:...|2021-07-02|            Other|    Other|      Other|\n",
      "|-227950717|  602187535|    NULL|    www.eczachly.com|          /?author=1|2021-01-03 00:03:...|2021-01-03|Apache-HttpClient|    Other|      Other|\n",
      "| 532630305| -178913481|    NULL| www.zachwilson.tech|            /contact|2021-02-04 17:41:...|2021-02-04|            Other|    Other|      Other|\n",
      "|-223216734| 1744817842|    NULL| www.zachwilson.tech|/graph/stock-tick...|2021-01-02 00:23:...|2021-01-02|      FacebookBot|    Other|     Spider|\n",
      "|-290659081|-1780827820|    NULL|    www.eczachly.com|                   /|2021-01-02 04:45:...|2021-01-02|          bingbot|    Other|     Spider|\n",
      "|-158310583| 1047962242|    NULL|    www.eczachly.com|                   /|2021-01-02 11:40:...|2021-01-02|         PetalBot|    Other|     Spider|\n",
      "+----------+-----------+--------+--------------------+--------------------+--------------------+----------+-----------------+---------+-----------+\n",
      "only showing top 20 rows\n",
      "\n"
     ]
    }
   ],
   "source": [
    "start_df.show()"
   ]
  },
  {
   "cell_type": "code",
   "execution_count": 18,
   "id": "d207a11b-b0a4-4662-bbe9-747d8f67be7d",
   "metadata": {},
   "outputs": [
    {
     "data": {
      "text/html": [
       "<table>\n",
       "    <thead>\n",
       "        <tr>\n",
       "            <th>size</th>\n",
       "            <th>num_files</th>\n",
       "            <th>sorted</th>\n",
       "        </tr>\n",
       "    </thead>\n",
       "    <tbody>\n",
       "        <tr>\n",
       "            <td>5518734</td>\n",
       "            <td>3</td>\n",
       "            <td>sorted</td>\n",
       "        </tr>\n",
       "        <tr>\n",
       "            <td>5725128</td>\n",
       "            <td>3</td>\n",
       "            <td>unsorted</td>\n",
       "        </tr>\n",
       "    </tbody>\n",
       "</table>"
      ],
      "text/plain": [
       "+---------+-----------+----------+\n",
       "|    size | num_files |   sorted |\n",
       "+---------+-----------+----------+\n",
       "| 5518734 |         3 |   sorted |\n",
       "| 5725128 |         3 | unsorted |\n",
       "+---------+-----------+----------+"
      ]
     },
     "execution_count": 18,
     "metadata": {},
     "output_type": "execute_result"
    }
   ],
   "source": [
    "%%sql\n",
    "\n",
    "SELECT SUM(file_size_in_bytes) as size, COUNT(1) as num_files, 'sorted' \n",
    "FROM bootcamp.events_sorted.files\n",
    "\n",
    "UNION ALL\n",
    "SELECT SUM(file_size_in_bytes) as size, COUNT(1) as num_files, 'unsorted' \n",
    "FROM bootcamp.events_unsorted.files\n",
    "\n",
    "\n"
   ]
  },
  {
   "cell_type": "code",
   "execution_count": 19,
   "id": "a93db4d6-ac15-4d0e-83da-77b93ad618da",
   "metadata": {},
   "outputs": [
    {
     "data": {
      "text/html": [
       "<table>\n",
       "    <thead>\n",
       "        <tr>\n",
       "            <th>size</th>\n",
       "            <th>num_files</th>\n",
       "        </tr>\n",
       "    </thead>\n",
       "    <tbody>\n",
       "        <tr>\n",
       "            <td>None</td>\n",
       "            <td>0</td>\n",
       "        </tr>\n",
       "    </tbody>\n",
       "</table>"
      ],
      "text/plain": [
       "+------+-----------+\n",
       "| size | num_files |\n",
       "+------+-----------+\n",
       "| None |         0 |\n",
       "+------+-----------+"
      ]
     },
     "execution_count": 19,
     "metadata": {},
     "output_type": "execute_result"
    }
   ],
   "source": [
    "%%sql\n",
    "SELECT SUM(file_size_in_bytes) as size, COUNT(1) as num_files FROM demo.bootcamp.events.files;"
   ]
  },
  {
   "cell_type": "code",
   "execution_count": null,
   "id": "527dfa82",
   "metadata": {},
   "outputs": [],
   "source": [
    "%%sql\n",
    "\n",
    "SHOW CURRENT NAMESPACE"
   ]
  },
  {
   "cell_type": "code",
   "execution_count": 20,
   "id": "997c705e",
   "metadata": {
    "collapsed": false,
    "jupyter": {
     "outputs_hidden": false
    },
    "pycharm": {
     "name": "#%%\n"
    }
   },
   "outputs": [
    {
     "data": {
      "text/html": [
       "<table>\n",
       "    <thead>\n",
       "        <tr>\n",
       "            <th>content</th>\n",
       "            <th>file_path</th>\n",
       "            <th>file_format</th>\n",
       "            <th>spec_id</th>\n",
       "            <th>partition</th>\n",
       "            <th>record_count</th>\n",
       "            <th>file_size_in_bytes</th>\n",
       "            <th>column_sizes</th>\n",
       "            <th>value_counts</th>\n",
       "            <th>null_value_counts</th>\n",
       "            <th>nan_value_counts</th>\n",
       "            <th>lower_bounds</th>\n",
       "            <th>upper_bounds</th>\n",
       "            <th>key_metadata</th>\n",
       "            <th>split_offsets</th>\n",
       "            <th>equality_ids</th>\n",
       "            <th>sort_order_id</th>\n",
       "            <th>referenced_data_file</th>\n",
       "            <th>content_offset</th>\n",
       "            <th>content_size_in_bytes</th>\n",
       "            <th>readable_metrics</th>\n",
       "        </tr>\n",
       "    </thead>\n",
       "    <tbody>\n",
       "        <tr>\n",
       "            <td>0</td>\n",
       "            <td>s3://warehouse/bootcamp/events_unsorted/data/event_time_year=2023/00000-50-a2f0d574-a851-4bb7-a72a-d1c99876c810-0-00001.parquet</td>\n",
       "            <td>PARQUET</td>\n",
       "            <td>0</td>\n",
       "            <td>Row(event_time_year=53)</td>\n",
       "            <td>292855</td>\n",
       "            <td>4314368</td>\n",
       "            <td>{1: 368032, 2: 1002206, 3: 269274, 4: 823002, 5: 145585, 6: 120670, 7: 125151, 8: 76079, 9: 1350549, 10: 24095}</td>\n",
       "            <td>{1: 292855, 2: 292855, 3: 292855, 4: 292855, 5: 292855, 6: 292855, 7: 292855, 8: 292855, 9: 292855, 10: 292855}</td>\n",
       "            <td>{1: 0, 2: 67, 3: 128072, 4: 0, 5: 1, 6: 1, 7: 1, 8: 0, 9: 0, 10: 0}</td>\n",
       "            <td>{}</td>\n",
       "            <td>{1: bytearray(b&#x27;\\x7f\\xba\\x06\\x80&#x27;), 2: bytearray(b&#x27;\\xb1\\xf4\\x00\\x80&#x27;), 3: bytearray(b&#x27;&quot;https://www.goo&#x27;), 4: bytearray(b&#x27;&quot;/?&quot;&quot;&lt;?=print(93&#x27;), 5: bytearray(b&#x27;%E3%82%A6%E3%82%&#x27;), 6: bytearray(b&#x27;Android&#x27;), 7: bytearray(b&#x27;$2&#x27;), 8: bytearray(b&#x27;aashish.techcrea&#x27;), 9: bytearray(b&#x27;\\x18\\x8f~\\x9c(\\xf1\\x05\\x00&#x27;), 10: bytearray(b&#x27;\\x9eK\\x00\\x00&#x27;)}</td>\n",
       "            <td>{1: bytearray(b&#x27;m:\\xff\\x7f&#x27;), 2: bytearray(b&#x27;\\xd6\\xf4\\xfe\\x7f&#x27;), 3: bytearray(b&#x27;zachwilson.tech&#x27;), 4: bytearray(b&#x27;/zzageqnf.php?Fp&#x27;), 5: bytearray(b&#x27;webprosbot&#x27;), 6: bytearray(b&#x27;webOS&#x27;), 7: bytearray(b&#x27;vivo $2&#x27;), 8: bytearray(b&#x27;zzz.techcreator/&#x27;), 9: bytearray(b&#x27;HE\\xdbM\\xb3\\x03\\x06\\x00&#x27;), 10: bytearray(b&#x27;\\x89L\\x00\\x00&#x27;)}</td>\n",
       "            <td>None</td>\n",
       "            <td>[4]</td>\n",
       "            <td>None</td>\n",
       "            <td>0</td>\n",
       "            <td>None</td>\n",
       "            <td>None</td>\n",
       "            <td>None</td>\n",
       "            <td>Row(browser_family=Row(column_size=145585, value_count=292855, null_value_count=1, nan_value_count=None, lower_bound=&#x27;%E3%82%A6%E3%82%&#x27;, upper_bound=&#x27;webprosbot&#x27;), device_id=Row(column_size=368032, value_count=292855, null_value_count=0, nan_value_count=None, lower_bound=-2147042689, upper_bound=2147433069), device_type=Row(column_size=125151, value_count=292855, null_value_count=1, nan_value_count=None, lower_bound=&#x27;$2&#x27;, upper_bound=&#x27;vivo $2&#x27;), event_date=Row(column_size=24095, value_count=292855, null_value_count=0, nan_value_count=None, lower_bound=datetime.date(2023, 1, 1), upper_bound=datetime.date(2023, 8, 24)), event_time=Row(column_size=1350549, value_count=292855, null_value_count=0, nan_value_count=None, lower_bound=datetime.datetime(2023, 1, 1, 0, 6, 50, 79000), upper_bound=datetime.datetime(2023, 8, 24, 23, 8, 20, 509000)), host=Row(column_size=76079, value_count=292855, null_value_count=0, nan_value_count=None, lower_bound=&#x27;aashish.techcrea&#x27;, upper_bound=&#x27;zzz.techcreator/&#x27;), os_family=Row(column_size=120670, value_count=292855, null_value_count=1, nan_value_count=None, lower_bound=&#x27;Android&#x27;, upper_bound=&#x27;webOS&#x27;), referrer=Row(column_size=269274, value_count=292855, null_value_count=128072, nan_value_count=None, lower_bound=&#x27;&quot;https://www.goo&#x27;, upper_bound=&#x27;zachwilson.tech&#x27;), url=Row(column_size=823002, value_count=292855, null_value_count=0, nan_value_count=None, lower_bound=&#x27;&quot;/?&quot;&quot;&lt;?=print(93&#x27;, upper_bound=&#x27;/zzageqnf.php?Fp&#x27;), user_id=Row(column_size=1002206, value_count=292855, null_value_count=67, nan_value_count=None, lower_bound=-2147421007, upper_bound=2147415254))</td>\n",
       "        </tr>\n",
       "        <tr>\n",
       "            <td>0</td>\n",
       "            <td>s3://warehouse/bootcamp/events_unsorted/data/event_time_year=2022/00001-51-a2f0d574-a851-4bb7-a72a-d1c99876c810-0-00001.parquet</td>\n",
       "            <td>PARQUET</td>\n",
       "            <td>0</td>\n",
       "            <td>Row(event_time_year=52)</td>\n",
       "            <td>74035</td>\n",
       "            <td>920087</td>\n",
       "            <td>{1: 90844, 2: 209411, 3: 44738, 4: 62169, 5: 45108, 6: 24719, 7: 24978, 8: 11527, 9: 386016, 10: 16402}</td>\n",
       "            <td>{1: 74035, 2: 74035, 3: 74035, 4: 74035, 5: 74035, 6: 74035, 7: 74035, 8: 74035, 9: 74035, 10: 74035}</td>\n",
       "            <td>{1: 0, 2: 0, 3: 43593, 4: 0, 5: 0, 6: 0, 7: 0, 8: 0, 9: 0, 10: 0}</td>\n",
       "            <td>{}</td>\n",
       "            <td>{1: bytearray(b&#x27;\\xdf\\n\\xa5\\x80&#x27;), 2: bytearray(b&#x27;\\x993\\x00\\x80&#x27;), 3: bytearray(b&#x27;3.220.57.224&#x27;), 4: bytearray(b&#x27;/&#x27;), 5: bytearray(b&#x27;) Bot&#x27;), 6: bytearray(b&#x27;Android&#x27;), 7: bytearray(b&#x27;17MB150WB&#x27;), 8: bytearray(b&#x27;admin.zachwilson&#x27;), 9: bytearray(b&#x27;\\x88\\xe5\\x9fkz\\xd4\\x05\\x00&#x27;), 10: bytearray(b&#x27;1J\\x00\\x00&#x27;)}</td>\n",
       "            <td>{1: bytearray(b&#x27;\\xb6!\\xfd\\x7f&#x27;), 2: bytearray(b&#x27;o\\x96\\xfd\\x7f&#x27;), 3: bytearray(b&#x27;zachwilson.tech&#x27;), 4: bytearray(b&#x27;/zoushi&#x27;), 5: bytearray(b&#x27;webprosbot&#x27;), 6: bytearray(b&#x27;iOS&#x27;), 7: bytearray(b&#x27;vivo $2&#x27;), 8: bytearray(b&#x27;zachwilson.herol&#x27;), 9: bytearray(b&#x27;\\xf8\\x9e\\xe3Q(\\xf1\\x05\\x00&#x27;), 10: bytearray(b&#x27;\\x9dK\\x00\\x00&#x27;)}</td>\n",
       "            <td>None</td>\n",
       "            <td>[4]</td>\n",
       "            <td>None</td>\n",
       "            <td>0</td>\n",
       "            <td>None</td>\n",
       "            <td>None</td>\n",
       "            <td>None</td>\n",
       "            <td>Row(browser_family=Row(column_size=45108, value_count=74035, null_value_count=0, nan_value_count=None, lower_bound=&#x27;) Bot&#x27;, upper_bound=&#x27;webprosbot&#x27;), device_id=Row(column_size=90844, value_count=74035, null_value_count=0, nan_value_count=None, lower_bound=-2136667425, upper_bound=2147295670), device_type=Row(column_size=24978, value_count=74035, null_value_count=0, nan_value_count=None, lower_bound=&#x27;17MB150WB&#x27;, upper_bound=&#x27;vivo $2&#x27;), event_date=Row(column_size=16402, value_count=74035, null_value_count=0, nan_value_count=None, lower_bound=datetime.date(2022, 1, 1), upper_bound=datetime.date(2022, 12, 31)), event_time=Row(column_size=386016, value_count=74035, null_value_count=0, nan_value_count=None, lower_bound=datetime.datetime(2022, 1, 1, 0, 32, 20, 293000), upper_bound=datetime.datetime(2022, 12, 31, 23, 45, 58, 411000)), host=Row(column_size=11527, value_count=74035, null_value_count=0, nan_value_count=None, lower_bound=&#x27;admin.zachwilson&#x27;, upper_bound=&#x27;zachwilson.herol&#x27;), os_family=Row(column_size=24719, value_count=74035, null_value_count=0, nan_value_count=None, lower_bound=&#x27;Android&#x27;, upper_bound=&#x27;iOS&#x27;), referrer=Row(column_size=44738, value_count=74035, null_value_count=43593, nan_value_count=None, lower_bound=&#x27;3.220.57.224&#x27;, upper_bound=&#x27;zachwilson.tech&#x27;), url=Row(column_size=62169, value_count=74035, null_value_count=0, nan_value_count=None, lower_bound=&#x27;/&#x27;, upper_bound=&#x27;/zoushi&#x27;), user_id=Row(column_size=209411, value_count=74035, null_value_count=0, nan_value_count=None, lower_bound=-2147470439, upper_bound=2147325551))</td>\n",
       "        </tr>\n",
       "        <tr>\n",
       "            <td>0</td>\n",
       "            <td>s3://warehouse/bootcamp/events_unsorted/data/event_time_year=2021/00002-52-a2f0d574-a851-4bb7-a72a-d1c99876c810-0-00001.parquet</td>\n",
       "            <td>PARQUET</td>\n",
       "            <td>0</td>\n",
       "            <td>Row(event_time_year=51)</td>\n",
       "            <td>37924</td>\n",
       "            <td>490673</td>\n",
       "            <td>{1: 46181, 2: 106432, 3: 18906, 4: 32826, 5: 25604, 6: 11674, 7: 13843, 8: 5858, 9: 214806, 10: 11252}</td>\n",
       "            <td>{1: 37924, 2: 37924, 3: 37924, 4: 37924, 5: 37924, 6: 37924, 7: 37924, 8: 37924, 9: 37924, 10: 37924}</td>\n",
       "            <td>{1: 0, 2: 0, 3: 25229, 4: 0, 5: 0, 6: 0, 7: 0, 8: 0, 9: 0, 10: 0}</td>\n",
       "            <td>{}</td>\n",
       "            <td>{1: bytearray(b&#x27;\\xd1SN\\x80&#x27;), 2: bytearray(b&#x27;\\x96\\x94\\x16\\x80&#x27;), 3: bytearray(b&#x27;52.6.97.115&#x27;), 4: bytearray(b&#x27;/&#x27;), 5: bytearray(b&#x27;AccompanyBot&#x27;), 6: bytearray(b&#x27;Android&#x27;), 7: bytearray(b&#x27;ALP-AL00&#x27;), 8: bytearray(b&#x27;admin.zachwilson&#x27;), 9: bytearray(b&#x27;@n.\\xbd\\xdf\\xb7\\x05\\x00&#x27;), 10: bytearray(b&#x27;\\xc5H\\x00\\x00&#x27;)}</td>\n",
       "            <td>{1: bytearray(b&#x27;\\x1f\\xc4\\x18\\x7f&#x27;), 2: bytearray(b&#x27;\\xcd\\x96\\xff\\x7f&#x27;), 3: bytearray(b&#x27;www.google.com&#x27;), 4: bytearray(b&#x27;/zz/address.php@&#x27;), 5: bytearray(b&#x27;vuhuvBot&#x27;), 6: bytearray(b&#x27;iOS&#x27;), 7: bytearray(b&#x27;vivo $2&#x27;), 8: bytearray(b&#x27;www.zachwilson.u&#x27;), 9: bytearray(b&#x27;\\xd0\\xf4P\\xf0y\\xd4\\x05\\x00&#x27;), 10: bytearray(b&#x27;0J\\x00\\x00&#x27;)}</td>\n",
       "            <td>None</td>\n",
       "            <td>[4]</td>\n",
       "            <td>None</td>\n",
       "            <td>0</td>\n",
       "            <td>None</td>\n",
       "            <td>None</td>\n",
       "            <td>None</td>\n",
       "            <td>Row(browser_family=Row(column_size=25604, value_count=37924, null_value_count=0, nan_value_count=None, lower_bound=&#x27;AccompanyBot&#x27;, upper_bound=&#x27;vuhuvBot&#x27;), device_id=Row(column_size=46181, value_count=37924, null_value_count=0, nan_value_count=None, lower_bound=-2142350383, upper_bound=2132329503), device_type=Row(column_size=13843, value_count=37924, null_value_count=0, nan_value_count=None, lower_bound=&#x27;ALP-AL00&#x27;, upper_bound=&#x27;vivo $2&#x27;), event_date=Row(column_size=11252, value_count=37924, null_value_count=0, nan_value_count=None, lower_bound=datetime.date(2021, 1, 2), upper_bound=datetime.date(2021, 12, 31)), event_time=Row(column_size=214806, value_count=37924, null_value_count=0, nan_value_count=None, lower_bound=datetime.datetime(2021, 1, 2, 0, 14, 23, 80000), upper_bound=datetime.datetime(2021, 12, 31, 23, 57, 51, 522000)), host=Row(column_size=5858, value_count=37924, null_value_count=0, nan_value_count=None, lower_bound=&#x27;admin.zachwilson&#x27;, upper_bound=&#x27;www.zachwilson.u&#x27;), os_family=Row(column_size=11674, value_count=37924, null_value_count=0, nan_value_count=None, lower_bound=&#x27;Android&#x27;, upper_bound=&#x27;iOS&#x27;), referrer=Row(column_size=18906, value_count=37924, null_value_count=25229, nan_value_count=None, lower_bound=&#x27;52.6.97.115&#x27;, upper_bound=&#x27;www.google.com&#x27;), url=Row(column_size=32826, value_count=37924, null_value_count=0, nan_value_count=None, lower_bound=&#x27;/&#x27;, upper_bound=&#x27;/zz/address.php@&#x27;), user_id=Row(column_size=106432, value_count=37924, null_value_count=0, nan_value_count=None, lower_bound=-2146003818, upper_bound=2147456717))</td>\n",
       "        </tr>\n",
       "    </tbody>\n",
       "</table>"
      ],
      "text/plain": [
       "+---------+---------------------------------------------------------------------------------------------------------------------------------+-------------+---------+-------------------------+--------------+--------------------+-----------------------------------------------------------------------------------------------------------------+-----------------------------------------------------------------------------------------------------------------+---------------------------------------------------------------------+------------------+-------------------------------------------------------------------------------------------------------------------------------------------------------------------------------------------------------------------------------------------------------------------------------------------------------------------------------------------------+-------------------------------------------------------------------------------------------------------------------------------------------------------------------------------------------------------------------------------------------------------------------------------------------------------------------------------------+--------------+---------------+--------------+---------------+----------------------+----------------+-----------------------+--------------------------------------------------------------------------------------------------------------------------------------------------------------------------------------------------------------------------------------------------------------------------------------------------------------------------------------------------------------------------------------------------------------------------------------------------------------------------------------------------------------------------------------------------------------------------------------------------------------------------------------------------------------------------------------------------------------------------------------------------------------------------------------------------------------------------------------------------------------------------------------------------------------------------------------------------------------------------------------------------------------------------------------------------------------------------------------------------------------------------------------------------------------------------------------------------------------------------------------------------------------------------------------------------------------------------------------------------------------------------------------------------------------------------------------------------------------------------------------------------------------------------------------------------------------------------------------------------------------------------------------------------------------------------+\n",
       "| content |                                                                                                                       file_path | file_format | spec_id |               partition | record_count | file_size_in_bytes |                                                                                                    column_sizes |                                                                                                    value_counts |                                                   null_value_counts | nan_value_counts |                                                                                                                                                                                                                                                                                                                                    lower_bounds |                                                                                                                                                                                                                                                                                                                        upper_bounds | key_metadata | split_offsets | equality_ids | sort_order_id | referenced_data_file | content_offset | content_size_in_bytes |                                                                                                                                                                                                                                                                                                                                                                                                                                                                                                                                                                                                                                                                                                                                                                                                                                                                                                                                                                                                                                                                                                                                                                                                                                                                                                                                                                                                                                                                                                                                                                                                                                                         readable_metrics |\n",
       "+---------+---------------------------------------------------------------------------------------------------------------------------------+-------------+---------+-------------------------+--------------+--------------------+-----------------------------------------------------------------------------------------------------------------+-----------------------------------------------------------------------------------------------------------------+---------------------------------------------------------------------+------------------+-------------------------------------------------------------------------------------------------------------------------------------------------------------------------------------------------------------------------------------------------------------------------------------------------------------------------------------------------+-------------------------------------------------------------------------------------------------------------------------------------------------------------------------------------------------------------------------------------------------------------------------------------------------------------------------------------+--------------+---------------+--------------+---------------+----------------------+----------------+-----------------------+--------------------------------------------------------------------------------------------------------------------------------------------------------------------------------------------------------------------------------------------------------------------------------------------------------------------------------------------------------------------------------------------------------------------------------------------------------------------------------------------------------------------------------------------------------------------------------------------------------------------------------------------------------------------------------------------------------------------------------------------------------------------------------------------------------------------------------------------------------------------------------------------------------------------------------------------------------------------------------------------------------------------------------------------------------------------------------------------------------------------------------------------------------------------------------------------------------------------------------------------------------------------------------------------------------------------------------------------------------------------------------------------------------------------------------------------------------------------------------------------------------------------------------------------------------------------------------------------------------------------------------------------------------------------------+\n",
       "|       0 | s3://warehouse/bootcamp/events_unsorted/data/event_time_year=2023/00000-50-a2f0d574-a851-4bb7-a72a-d1c99876c810-0-00001.parquet |     PARQUET |       0 | Row(event_time_year=53) |       292855 |            4314368 | {1: 368032, 2: 1002206, 3: 269274, 4: 823002, 5: 145585, 6: 120670, 7: 125151, 8: 76079, 9: 1350549, 10: 24095} | {1: 292855, 2: 292855, 3: 292855, 4: 292855, 5: 292855, 6: 292855, 7: 292855, 8: 292855, 9: 292855, 10: 292855} | {1: 0, 2: 67, 3: 128072, 4: 0, 5: 1, 6: 1, 7: 1, 8: 0, 9: 0, 10: 0} |               {} | {1: bytearray(b'\\x7f\\xba\\x06\\x80'), 2: bytearray(b'\\xb1\\xf4\\x00\\x80'), 3: bytearray(b'\"https://www.goo'), 4: bytearray(b'\"/?\"\"<?=print(93'), 5: bytearray(b'%E3%82%A6%E3%82%'), 6: bytearray(b'Android'), 7: bytearray(b'$2'), 8: bytearray(b'aashish.techcrea'), 9: bytearray(b'\\x18\\x8f~\\x9c(\\xf1\\x05\\x00'), 10: bytearray(b'\\x9eK\\x00\\x00')} |  {1: bytearray(b'm:\\xff\\x7f'), 2: bytearray(b'\\xd6\\xf4\\xfe\\x7f'), 3: bytearray(b'zachwilson.tech'), 4: bytearray(b'/zzageqnf.php?Fp'), 5: bytearray(b'webprosbot'), 6: bytearray(b'webOS'), 7: bytearray(b'vivo $2'), 8: bytearray(b'zzz.techcreator/'), 9: bytearray(b'HE\\xdbM\\xb3\\x03\\x06\\x00'), 10: bytearray(b'\\x89L\\x00\\x00')} |         None |           [4] |         None |             0 |                 None |           None |                  None | Row(browser_family=Row(column_size=145585, value_count=292855, null_value_count=1, nan_value_count=None, lower_bound='%E3%82%A6%E3%82%', upper_bound='webprosbot'), device_id=Row(column_size=368032, value_count=292855, null_value_count=0, nan_value_count=None, lower_bound=-2147042689, upper_bound=2147433069), device_type=Row(column_size=125151, value_count=292855, null_value_count=1, nan_value_count=None, lower_bound='$2', upper_bound='vivo $2'), event_date=Row(column_size=24095, value_count=292855, null_value_count=0, nan_value_count=None, lower_bound=datetime.date(2023, 1, 1), upper_bound=datetime.date(2023, 8, 24)), event_time=Row(column_size=1350549, value_count=292855, null_value_count=0, nan_value_count=None, lower_bound=datetime.datetime(2023, 1, 1, 0, 6, 50, 79000), upper_bound=datetime.datetime(2023, 8, 24, 23, 8, 20, 509000)), host=Row(column_size=76079, value_count=292855, null_value_count=0, nan_value_count=None, lower_bound='aashish.techcrea', upper_bound='zzz.techcreator/'), os_family=Row(column_size=120670, value_count=292855, null_value_count=1, nan_value_count=None, lower_bound='Android', upper_bound='webOS'), referrer=Row(column_size=269274, value_count=292855, null_value_count=128072, nan_value_count=None, lower_bound='\"https://www.goo', upper_bound='zachwilson.tech'), url=Row(column_size=823002, value_count=292855, null_value_count=0, nan_value_count=None, lower_bound='\"/?\"\"<?=print(93', upper_bound='/zzageqnf.php?Fp'), user_id=Row(column_size=1002206, value_count=292855, null_value_count=67, nan_value_count=None, lower_bound=-2147421007, upper_bound=2147415254)) |\n",
       "|       0 | s3://warehouse/bootcamp/events_unsorted/data/event_time_year=2022/00001-51-a2f0d574-a851-4bb7-a72a-d1c99876c810-0-00001.parquet |     PARQUET |       0 | Row(event_time_year=52) |        74035 |             920087 |         {1: 90844, 2: 209411, 3: 44738, 4: 62169, 5: 45108, 6: 24719, 7: 24978, 8: 11527, 9: 386016, 10: 16402} |           {1: 74035, 2: 74035, 3: 74035, 4: 74035, 5: 74035, 6: 74035, 7: 74035, 8: 74035, 9: 74035, 10: 74035} |   {1: 0, 2: 0, 3: 43593, 4: 0, 5: 0, 6: 0, 7: 0, 8: 0, 9: 0, 10: 0} |               {} |                                {1: bytearray(b'\\xdf\\n\\xa5\\x80'), 2: bytearray(b'\\x993\\x00\\x80'), 3: bytearray(b'3.220.57.224'), 4: bytearray(b'/'), 5: bytearray(b') Bot'), 6: bytearray(b'Android'), 7: bytearray(b'17MB150WB'), 8: bytearray(b'admin.zachwilson'), 9: bytearray(b'\\x88\\xe5\\x9fkz\\xd4\\x05\\x00'), 10: bytearray(b'1J\\x00\\x00')} |          {1: bytearray(b'\\xb6!\\xfd\\x7f'), 2: bytearray(b'o\\x96\\xfd\\x7f'), 3: bytearray(b'zachwilson.tech'), 4: bytearray(b'/zoushi'), 5: bytearray(b'webprosbot'), 6: bytearray(b'iOS'), 7: bytearray(b'vivo $2'), 8: bytearray(b'zachwilson.herol'), 9: bytearray(b'\\xf8\\x9e\\xe3Q(\\xf1\\x05\\x00'), 10: bytearray(b'\\x9dK\\x00\\x00')} |         None |           [4] |         None |             0 |                 None |           None |                  None |                                                  Row(browser_family=Row(column_size=45108, value_count=74035, null_value_count=0, nan_value_count=None, lower_bound=') Bot', upper_bound='webprosbot'), device_id=Row(column_size=90844, value_count=74035, null_value_count=0, nan_value_count=None, lower_bound=-2136667425, upper_bound=2147295670), device_type=Row(column_size=24978, value_count=74035, null_value_count=0, nan_value_count=None, lower_bound='17MB150WB', upper_bound='vivo $2'), event_date=Row(column_size=16402, value_count=74035, null_value_count=0, nan_value_count=None, lower_bound=datetime.date(2022, 1, 1), upper_bound=datetime.date(2022, 12, 31)), event_time=Row(column_size=386016, value_count=74035, null_value_count=0, nan_value_count=None, lower_bound=datetime.datetime(2022, 1, 1, 0, 32, 20, 293000), upper_bound=datetime.datetime(2022, 12, 31, 23, 45, 58, 411000)), host=Row(column_size=11527, value_count=74035, null_value_count=0, nan_value_count=None, lower_bound='admin.zachwilson', upper_bound='zachwilson.herol'), os_family=Row(column_size=24719, value_count=74035, null_value_count=0, nan_value_count=None, lower_bound='Android', upper_bound='iOS'), referrer=Row(column_size=44738, value_count=74035, null_value_count=43593, nan_value_count=None, lower_bound='3.220.57.224', upper_bound='zachwilson.tech'), url=Row(column_size=62169, value_count=74035, null_value_count=0, nan_value_count=None, lower_bound='/', upper_bound='/zoushi'), user_id=Row(column_size=209411, value_count=74035, null_value_count=0, nan_value_count=None, lower_bound=-2147470439, upper_bound=2147325551)) |\n",
       "|       0 | s3://warehouse/bootcamp/events_unsorted/data/event_time_year=2021/00002-52-a2f0d574-a851-4bb7-a72a-d1c99876c810-0-00001.parquet |     PARQUET |       0 | Row(event_time_year=51) |        37924 |             490673 |          {1: 46181, 2: 106432, 3: 18906, 4: 32826, 5: 25604, 6: 11674, 7: 13843, 8: 5858, 9: 214806, 10: 11252} |           {1: 37924, 2: 37924, 3: 37924, 4: 37924, 5: 37924, 6: 37924, 7: 37924, 8: 37924, 9: 37924, 10: 37924} |   {1: 0, 2: 0, 3: 25229, 4: 0, 5: 0, 6: 0, 7: 0, 8: 0, 9: 0, 10: 0} |               {} |                            {1: bytearray(b'\\xd1SN\\x80'), 2: bytearray(b'\\x96\\x94\\x16\\x80'), 3: bytearray(b'52.6.97.115'), 4: bytearray(b'/'), 5: bytearray(b'AccompanyBot'), 6: bytearray(b'Android'), 7: bytearray(b'ALP-AL00'), 8: bytearray(b'admin.zachwilson'), 9: bytearray(b'@n.\\xbd\\xdf\\xb7\\x05\\x00'), 10: bytearray(b'\\xc5H\\x00\\x00')} | {1: bytearray(b'\\x1f\\xc4\\x18\\x7f'), 2: bytearray(b'\\xcd\\x96\\xff\\x7f'), 3: bytearray(b'www.google.com'), 4: bytearray(b'/zz/address.php@'), 5: bytearray(b'vuhuvBot'), 6: bytearray(b'iOS'), 7: bytearray(b'vivo $2'), 8: bytearray(b'www.zachwilson.u'), 9: bytearray(b'\\xd0\\xf4P\\xf0y\\xd4\\x05\\x00'), 10: bytearray(b'0J\\x00\\x00')} |         None |           [4] |         None |             0 |                 None |           None |                  None |                                         Row(browser_family=Row(column_size=25604, value_count=37924, null_value_count=0, nan_value_count=None, lower_bound='AccompanyBot', upper_bound='vuhuvBot'), device_id=Row(column_size=46181, value_count=37924, null_value_count=0, nan_value_count=None, lower_bound=-2142350383, upper_bound=2132329503), device_type=Row(column_size=13843, value_count=37924, null_value_count=0, nan_value_count=None, lower_bound='ALP-AL00', upper_bound='vivo $2'), event_date=Row(column_size=11252, value_count=37924, null_value_count=0, nan_value_count=None, lower_bound=datetime.date(2021, 1, 2), upper_bound=datetime.date(2021, 12, 31)), event_time=Row(column_size=214806, value_count=37924, null_value_count=0, nan_value_count=None, lower_bound=datetime.datetime(2021, 1, 2, 0, 14, 23, 80000), upper_bound=datetime.datetime(2021, 12, 31, 23, 57, 51, 522000)), host=Row(column_size=5858, value_count=37924, null_value_count=0, nan_value_count=None, lower_bound='admin.zachwilson', upper_bound='www.zachwilson.u'), os_family=Row(column_size=11674, value_count=37924, null_value_count=0, nan_value_count=None, lower_bound='Android', upper_bound='iOS'), referrer=Row(column_size=18906, value_count=37924, null_value_count=25229, nan_value_count=None, lower_bound='52.6.97.115', upper_bound='www.google.com'), url=Row(column_size=32826, value_count=37924, null_value_count=0, nan_value_count=None, lower_bound='/', upper_bound='/zz/address.php@'), user_id=Row(column_size=106432, value_count=37924, null_value_count=0, nan_value_count=None, lower_bound=-2146003818, upper_bound=2147456717)) |\n",
       "+---------+---------------------------------------------------------------------------------------------------------------------------------+-------------+---------+-------------------------+--------------+--------------------+-----------------------------------------------------------------------------------------------------------------+-----------------------------------------------------------------------------------------------------------------+---------------------------------------------------------------------+------------------+-------------------------------------------------------------------------------------------------------------------------------------------------------------------------------------------------------------------------------------------------------------------------------------------------------------------------------------------------+-------------------------------------------------------------------------------------------------------------------------------------------------------------------------------------------------------------------------------------------------------------------------------------------------------------------------------------+--------------+---------------+--------------+---------------+----------------------+----------------+-----------------------+--------------------------------------------------------------------------------------------------------------------------------------------------------------------------------------------------------------------------------------------------------------------------------------------------------------------------------------------------------------------------------------------------------------------------------------------------------------------------------------------------------------------------------------------------------------------------------------------------------------------------------------------------------------------------------------------------------------------------------------------------------------------------------------------------------------------------------------------------------------------------------------------------------------------------------------------------------------------------------------------------------------------------------------------------------------------------------------------------------------------------------------------------------------------------------------------------------------------------------------------------------------------------------------------------------------------------------------------------------------------------------------------------------------------------------------------------------------------------------------------------------------------------------------------------------------------------------------------------------------------------------------------------------------------------+"
      ]
     },
     "execution_count": 20,
     "metadata": {},
     "output_type": "execute_result"
    }
   ],
   "source": [
    "%%sql \n",
    "\n",
    "SELECT *\n",
    "FROM demo.bootcamp.events_unsorted.files"
   ]
  },
  {
   "cell_type": "code",
   "execution_count": null,
   "id": "674f173d-86ca-4637-9332-37ce04a81451",
   "metadata": {},
   "outputs": [],
   "source": []
  },
  {
   "cell_type": "code",
   "execution_count": null,
   "id": "591ba0b7-2e6f-420a-960d-95e5734b0166",
   "metadata": {},
   "outputs": [],
   "source": []
  }
 ],
 "metadata": {
  "kernelspec": {
   "display_name": "Python 3 (ipykernel)",
   "language": "python",
   "name": "python3"
  }
 },
 "nbformat": 4,
 "nbformat_minor": 5
}
