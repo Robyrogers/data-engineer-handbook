{
 "cells": [
  {
   "cell_type": "code",
   "execution_count": 13,
   "id": "ff6cc1d1",
   "metadata": {},
   "outputs": [],
   "source": [
    "from pyspark.sql import SparkSession\n",
    "from pyspark.sql import functions as sf\n",
    "\n",
    "spark = SparkSession.builder.appName('Jupyter')\\\n",
    "    .config('spark.driver.memory', '5g')\\\n",
    "    .getOrCreate()"
   ]
  },
  {
   "cell_type": "code",
   "execution_count": 14,
   "id": "80a581fb",
   "metadata": {},
   "outputs": [
    {
     "data": {
      "text/plain": [
       "'5g'"
      ]
     },
     "execution_count": 14,
     "metadata": {},
     "output_type": "execute_result"
    }
   ],
   "source": [
    "spark.conf.get('spark.driver.memory')"
   ]
  },
  {
   "cell_type": "code",
   "execution_count": 15,
   "id": "90312c2d",
   "metadata": {},
   "outputs": [
    {
     "data": {
      "text/plain": [
       "StructType([StructField('match_id', StringType(), True), StructField('mapid', StringType(), True), StructField('is_team_game', BooleanType(), True), StructField('playlist_id', StringType(), True), StructField('game_variant_id', StringType(), True), StructField('is_match_over', BooleanType(), True), StructField('completion_date', TimestampType(), True), StructField('match_duration', StringType(), True), StructField('game_mode', StringType(), True), StructField('map_variant_id', StringType(), True)])"
      ]
     },
     "execution_count": 15,
     "metadata": {},
     "output_type": "execute_result"
    }
   ],
   "source": [
    "matches = spark.read.options(\n",
    "    header=True,\n",
    "    inferSchema=True\n",
    ").csv('/home/iceberg/data/matches.csv')\n",
    "\n",
    "matches.schema\n"
   ]
  },
  {
   "cell_type": "code",
   "execution_count": 16,
   "id": "2349672f",
   "metadata": {},
   "outputs": [
    {
     "name": "stderr",
     "output_type": "stream",
     "text": [
      "                                                                                \r"
     ]
    },
    {
     "data": {
      "text/plain": [
       "StructType([StructField('match_id', StringType(), True), StructField('player_gamertag', StringType(), True), StructField('previous_spartan_rank', IntegerType(), True), StructField('spartan_rank', IntegerType(), True), StructField('previous_total_xp', IntegerType(), True), StructField('total_xp', IntegerType(), True), StructField('previous_csr_tier', IntegerType(), True), StructField('previous_csr_designation', IntegerType(), True), StructField('previous_csr', IntegerType(), True), StructField('previous_csr_percent_to_next_tier', IntegerType(), True), StructField('previous_csr_rank', IntegerType(), True), StructField('current_csr_tier', IntegerType(), True), StructField('current_csr_designation', IntegerType(), True), StructField('current_csr', IntegerType(), True), StructField('current_csr_percent_to_next_tier', IntegerType(), True), StructField('current_csr_rank', IntegerType(), True), StructField('player_rank_on_team', IntegerType(), True), StructField('player_finished', BooleanType(), True), StructField('player_average_life', StringType(), True), StructField('player_total_kills', IntegerType(), True), StructField('player_total_headshots', IntegerType(), True), StructField('player_total_weapon_damage', DoubleType(), True), StructField('player_total_shots_landed', IntegerType(), True), StructField('player_total_melee_kills', IntegerType(), True), StructField('player_total_melee_damage', DoubleType(), True), StructField('player_total_assassinations', IntegerType(), True), StructField('player_total_ground_pound_kills', IntegerType(), True), StructField('player_total_shoulder_bash_kills', IntegerType(), True), StructField('player_total_grenade_damage', DoubleType(), True), StructField('player_total_power_weapon_damage', DoubleType(), True), StructField('player_total_power_weapon_grabs', IntegerType(), True), StructField('player_total_deaths', IntegerType(), True), StructField('player_total_assists', IntegerType(), True), StructField('player_total_grenade_kills', IntegerType(), True), StructField('did_win', IntegerType(), True), StructField('team_id', IntegerType(), True)])"
      ]
     },
     "execution_count": 16,
     "metadata": {},
     "output_type": "execute_result"
    }
   ],
   "source": [
    "match_details = spark.read.options(\n",
    "    header=True,\n",
    "    inferSchema=True\n",
    ").csv('/home/iceberg/data/match_details.csv')\n",
    "\n",
    "match_details.schema"
   ]
  },
  {
   "cell_type": "code",
   "execution_count": 17,
   "id": "217e0d15",
   "metadata": {},
   "outputs": [
    {
     "name": "stderr",
     "output_type": "stream",
     "text": [
      "                                                                                \r"
     ]
    }
   ],
   "source": [
    "spark.sql('DROP TABLE IF EXISTS bootcamp.matches_bucketed')\n",
    "spark.sql('''\n",
    "    CREATE TABLE IF NOT EXISTS bootcamp.matches_bucketed (\n",
    "        match_id STRING,\n",
    "        is_team_game BOOLEAN,\n",
    "        playlist_id STRING,\n",
    "        completion_date TIMESTAMP\n",
    "    )\n",
    "    USING iceberg\n",
    "    PARTITIONED BY (months(completion_date), bucket(16, match_id))\n",
    "''')\n",
    "\n",
    "matches\\\n",
    "    .select(\n",
    "        sf.col('match_id'),\n",
    "        sf.col('is_team_game'),\n",
    "        sf.col('playlist_id'),\n",
    "        sf.col('completion_date')\n",
    "    )\\\n",
    "    .writeTo('bootcamp.matches_bucketed')\\\n",
    "    .partitionedBy(\n",
    "        sf.months('completion_date'),\n",
    "        sf.bucket(16, 'match_id')\n",
    "    )\\\n",
    "    .append()\n"
   ]
  },
  {
   "cell_type": "code",
   "execution_count": 18,
   "id": "703b445d",
   "metadata": {},
   "outputs": [
    {
     "name": "stderr",
     "output_type": "stream",
     "text": [
      "                                                                                \r"
     ]
    }
   ],
   "source": [
    "spark.sql('DROP TABLE IF EXISTS bootcamp.match_details_bucketed')\n",
    "match_details.writeTo('bootcamp.match_details_bucketed')\\\n",
    "    .partitionedBy(\n",
    "        sf.bucket(16, 'match_id')\n",
    "    ).create()"
   ]
  },
  {
   "cell_type": "code",
   "execution_count": null,
   "id": "922a86ac",
   "metadata": {},
   "outputs": [],
   "source": [
    "%%sql\n",
    "SELECT * FROM bootcamp.matches_bucketed.files"
   ]
  },
  {
   "cell_type": "code",
   "execution_count": 20,
   "id": "08cf6236",
   "metadata": {},
   "outputs": [
    {
     "data": {
      "text/plain": [
       "'-1'"
      ]
     },
     "execution_count": 20,
     "metadata": {},
     "output_type": "execute_result"
    }
   ],
   "source": [
    "spark.conf.set('spark.sql.autoBroadcastJoinThreshold', '-1')\n",
    "spark.conf.get('spark.sql.autoBroadcastJoinThreshold')"
   ]
  },
  {
   "cell_type": "code",
   "execution_count": 24,
   "id": "bf5a7059",
   "metadata": {},
   "outputs": [
    {
     "name": "stdout",
     "output_type": "stream",
     "text": [
      "== Physical Plan ==\n",
      "AdaptiveSparkPlan isFinalPlan=false\n",
      "+- SortMergeJoin [match_id#1213], [match_id#1217], Inner\n",
      "   :- Sort [match_id#1213 ASC NULLS FIRST], false, 0\n",
      "   :  +- Exchange hashpartitioning(match_id#1213, 200), ENSURE_REQUIREMENTS, [plan_id=403]\n",
      "   :     +- Filter (completion_date#1216 = 2016-01-01 00:00:00)\n",
      "   :        +- BatchScan demo.bootcamp.matches_bucketed[match_id#1213, is_team_game#1214, playlist_id#1215, completion_date#1216] demo.bootcamp.matches_bucketed (branch=null) [filters=completion_date IS NOT NULL, completion_date = 1451606400000000, match_id IS NOT NULL, groupedBy=] RuntimeFilters: []\n",
      "   +- Sort [match_id#1217 ASC NULLS FIRST], false, 0\n",
      "      +- Exchange hashpartitioning(match_id#1217, 200), ENSURE_REQUIREMENTS, [plan_id=404]\n",
      "         +- BatchScan demo.bootcamp.match_details_bucketed[match_id#1217, player_gamertag#1218, previous_spartan_rank#1219, spartan_rank#1220, previous_total_xp#1221, total_xp#1222, previous_csr_tier#1223, previous_csr_designation#1224, previous_csr#1225, previous_csr_percent_to_next_tier#1226, previous_csr_rank#1227, current_csr_tier#1228, current_csr_designation#1229, current_csr#1230, current_csr_percent_to_next_tier#1231, current_csr_rank#1232, player_rank_on_team#1233, player_finished#1234, player_average_life#1235, player_total_kills#1236, player_total_headshots#1237, player_total_weapon_damage#1238, player_total_shots_landed#1239, player_total_melee_kills#1240, ... 12 more fields] demo.bootcamp.match_details_bucketed (branch=null) [filters=match_id IS NOT NULL, groupedBy=] RuntimeFilters: [dynamicpruningexpression(match_id#1217 IN dynamicpruning#1343)]\n",
      "               +- SubqueryAdaptiveBroadcast dynamicpruning#1343, 0, true, Filter (completion_date#1216 = 2016-01-01 00:00:00), [match_id#1213]\n",
      "                  +- AdaptiveSparkPlan isFinalPlan=false\n",
      "                     +- Filter (completion_date#1216 = 2016-01-01 00:00:00)\n",
      "                        +- BatchScan demo.bootcamp.matches_bucketed[match_id#1213, is_team_game#1214, playlist_id#1215, completion_date#1216] demo.bootcamp.matches_bucketed (branch=null) [filters=completion_date IS NOT NULL, completion_date = 1451606400000000, match_id IS NOT NULL, groupedBy=] RuntimeFilters: []\n",
      "\n",
      "\n"
     ]
    }
   ],
   "source": [
    "spark.sql('''\n",
    "    SELECT *\n",
    "    FROM bootcamp.matches_bucketed mb\n",
    "    JOIN bootcamp.match_details_bucketed mdb\n",
    "    ON mb.match_id = mdb.match_id AND mb.completion_date = DATE('2016-01-01')\n",
    "''').explain()"
   ]
  },
  {
   "cell_type": "code",
   "execution_count": 25,
   "id": "0a528220",
   "metadata": {},
   "outputs": [
    {
     "name": "stdout",
     "output_type": "stream",
     "text": [
      "== Physical Plan ==\n",
      "CartesianProduct\n",
      ":- *(1) ColumnarToRow\n",
      ":  +- BatchScan demo.bootcamp.matches_bucketed[match_id#1344, is_team_game#1345, playlist_id#1346, completion_date#1347] demo.bootcamp.matches_bucketed (branch=null) [filters=, groupedBy=] RuntimeFilters: []\n",
      "+- *(2) ColumnarToRow\n",
      "   +- BatchScan demo.bootcamp.match_details_bucketed[match_id#1348, player_gamertag#1349, previous_spartan_rank#1350, spartan_rank#1351, previous_total_xp#1352, total_xp#1353, previous_csr_tier#1354, previous_csr_designation#1355, previous_csr#1356, previous_csr_percent_to_next_tier#1357, previous_csr_rank#1358, current_csr_tier#1359, current_csr_designation#1360, current_csr#1361, current_csr_percent_to_next_tier#1362, current_csr_rank#1363, player_rank_on_team#1364, player_finished#1365, player_average_life#1366, player_total_kills#1367, player_total_headshots#1368, player_total_weapon_damage#1369, player_total_shots_landed#1370, player_total_melee_kills#1371, ... 12 more fields] demo.bootcamp.match_details_bucketed (branch=null) [filters=, groupedBy=] RuntimeFilters: []\n",
      "\n",
      "\n"
     ]
    }
   ],
   "source": [
    "spark.sql('''\n",
    "    SELECT *\n",
    "    FROM bootcamp.matches_bucketed mb\n",
    "    JOIN bootcamp.match_details_bucketed mdb\n",
    "''').explain()"
   ]
  },
  {
   "cell_type": "code",
   "execution_count": 29,
   "id": "9ab98b70",
   "metadata": {},
   "outputs": [
    {
     "data": {
      "text/plain": [
       "24025"
      ]
     },
     "execution_count": 29,
     "metadata": {},
     "output_type": "execute_result"
    }
   ],
   "source": [
    "spark.table('bootcamp.matches_bucketed').count()"
   ]
  },
  {
   "cell_type": "code",
   "execution_count": 36,
   "id": "f25bac49",
   "metadata": {},
   "outputs": [
    {
     "name": "stdout",
     "output_type": "stream",
     "text": [
      "== Physical Plan ==\n",
      "AdaptiveSparkPlan isFinalPlan=false\n",
      "+- BroadcastHashJoin [match_id#2164], [match_id#2236], Inner, BuildRight, false\n",
      "   :- BatchScan demo.bootcamp.match_details_bucketed[match_id#2164, player_gamertag#2165, previous_spartan_rank#2166, spartan_rank#2167, previous_total_xp#2168, total_xp#2169, previous_csr_tier#2170, previous_csr_designation#2171, previous_csr#2172, previous_csr_percent_to_next_tier#2173, previous_csr_rank#2174, current_csr_tier#2175, current_csr_designation#2176, current_csr#2177, current_csr_percent_to_next_tier#2178, current_csr_rank#2179, player_rank_on_team#2180, player_finished#2181, player_average_life#2182, player_total_kills#2183, player_total_headshots#2184, player_total_weapon_damage#2185, player_total_shots_landed#2186, player_total_melee_kills#2187, ... 12 more fields] demo.bootcamp.match_details_bucketed (branch=null) [filters=match_id IS NOT NULL, groupedBy=] RuntimeFilters: [dynamicpruningexpression(match_id#2164 IN dynamicpruning#2369)]\n",
      "   :     +- SubqueryAdaptiveBroadcast dynamicpruning#2369, 0, true, Filter (completion_date#2239 = 2016-01-01 00:00:00), [match_id#2236]\n",
      "   :        +- AdaptiveSparkPlan isFinalPlan=false\n",
      "   :           +- Filter (completion_date#2239 = 2016-01-01 00:00:00)\n",
      "   :              +- BatchScan demo.bootcamp.matches_bucketed[match_id#2236, is_team_game#2237, playlist_id#2238, completion_date#2239] demo.bootcamp.matches_bucketed (branch=null) [filters=completion_date IS NOT NULL, completion_date = 1451606400000000, match_id IS NOT NULL, groupedBy=] RuntimeFilters: []\n",
      "   +- BroadcastExchange HashedRelationBroadcastMode(List(input[0, string, true]),false), [plan_id=576]\n",
      "      +- Filter (completion_date#2239 = 2016-01-01 00:00:00)\n",
      "         +- BatchScan demo.bootcamp.matches_bucketed[match_id#2236, is_team_game#2237, playlist_id#2238, completion_date#2239] demo.bootcamp.matches_bucketed (branch=null) [filters=completion_date IS NOT NULL, completion_date = 1451606400000000, match_id IS NOT NULL, groupedBy=] RuntimeFilters: []\n",
      "\n",
      "\n"
     ]
    }
   ],
   "source": [
    "spark.table('bootcamp.match_details_bucketed').alias('mdb').join(\n",
    "    sf.broadcast(spark.table('bootcamp.matches_bucketed')).alias('mb'),\n",
    "    sf.col('mb.match_id') == sf.col('mdb.match_id')\n",
    ").where(\"mb.completion_date = DATE('2016-01-01')\").explain()"
   ]
  }
 ],
 "metadata": {
  "kernelspec": {
   "display_name": "Python 3 (ipykernel)",
   "language": "python",
   "name": "python3"
  }
 },
 "nbformat": 4,
 "nbformat_minor": 5
}
