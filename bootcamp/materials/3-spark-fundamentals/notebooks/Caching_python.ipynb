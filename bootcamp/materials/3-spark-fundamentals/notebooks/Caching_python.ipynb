{
 "cells": [
  {
   "cell_type": "code",
   "execution_count": 1,
   "id": "55119c1f",
   "metadata": {},
   "outputs": [
    {
     "name": "stderr",
     "output_type": "stream",
     "text": [
      "25/08/04 18:17:31 WARN SparkSession: Using an existing Spark session; only runtime SQL configurations will take effect.\n"
     ]
    }
   ],
   "source": [
    "from pyspark.sql import SparkSession\n",
    "from pyspark.sql import functions as sf\n",
    "\n",
    "spark = SparkSession.builder.appName('Jupyter')\\\n",
    "    .config('spark.sql.autoBroadcastJoinThreshold', '-1')\\\n",
    "    .config('spark.sql.analyzer.failAmbiguousSelfJoin', 'false')\\\n",
    "    .config('spark.sql.shuffle.partitions', '4')\\\n",
    "    .getOrCreate()"
   ]
  },
  {
   "cell_type": "code",
   "execution_count": 2,
   "id": "11c5e0d0",
   "metadata": {},
   "outputs": [
    {
     "name": "stderr",
     "output_type": "stream",
     "text": [
      "                                                                                \r"
     ]
    }
   ],
   "source": [
    "events = spark.read.options(header=True, inferSchema=True)\\\n",
    "    .csv('/home/iceberg/data/events.csv')\\\n",
    "    .where(sf.column('user_id').isNotNull())\n",
    "\n",
    "devices = spark.read.options(header=True, inferSchema=True)\\\n",
    "    .csv('/home/iceberg/data/devices.csv')"
   ]
  },
  {
   "cell_type": "code",
   "execution_count": 3,
   "id": "3a1cc94b",
   "metadata": {},
   "outputs": [],
   "source": [
    "events.createOrReplaceTempView('events')\n",
    "devices.createOrReplaceTempView('devices')"
   ]
  },
  {
   "cell_type": "code",
   "execution_count": 4,
   "id": "5b606321",
   "metadata": {},
   "outputs": [
    {
     "data": {
      "text/plain": [
       "StructType([StructField('device_id', IntegerType(), True), StructField('browser_type', StringType(), True), StructField('os_type', StringType(), True), StructField('device_type', StringType(), True)])"
      ]
     },
     "execution_count": 4,
     "metadata": {},
     "output_type": "execute_result"
    }
   ],
   "source": [
    "devices.schema"
   ]
  },
  {
   "cell_type": "code",
   "execution_count": 5,
   "id": "3919a19b",
   "metadata": {},
   "outputs": [],
   "source": [
    "events_aggregated = spark.sql(\"\"\"\n",
    "    SELECT\n",
    "        user_id,\n",
    "        device_id,\n",
    "        COUNT(1) as event_counts,\n",
    "        ARRAY_AGG(DISTINCT host) as host_array\n",
    "    FROM events\n",
    "    GROUP BY 1, 2\n",
    "\"\"\").cache()"
   ]
  },
  {
   "cell_type": "code",
   "execution_count": 6,
   "id": "2b2ebad4",
   "metadata": {},
   "outputs": [
    {
     "name": "stderr",
     "output_type": "stream",
     "text": [
      "                                                                                \r"
     ]
    },
    {
     "name": "stdout",
     "output_type": "stream",
     "text": [
      "+-----------+-----------+------------+--------------------+\n",
      "|    user_id|  device_id|event_counts|          host_array|\n",
      "+-----------+-----------+------------+--------------------+\n",
      "|-2147421007| -807271869|           1|[admin.zachwilson...|\n",
      "|-2147340867| 1324700293|           1|  [www.eczachly.com]|\n",
      "|-2147051672|  583904608|           1|  [www.eczachly.com]|\n",
      "|-2146961540| 1436415199|           1|   [dataengineer.io]|\n",
      "|-2146752203| -887516106|           1|  [www.eczachly.com]|\n",
      "|-2146501484| -240714045|           1|  [www.eczachly.com]|\n",
      "|-2146204366|-1893334816|           1|  [www.eczachly.com]|\n",
      "|-2146151971| 1177446421|           5|  [www.eczachly.com]|\n",
      "|-2146090945|-1238295066|           1|  [www.eczachly.com]|\n",
      "|-2146031264| 1439772194|           1|  [www.eczachly.com]|\n",
      "|-2146003818| 1348650756|           5|[www.zachwilson.t...|\n",
      "|-2145736510|-1243615787|           2|[www.zachwilson.t...|\n",
      "|-2145518400|  298775979|           3|[www.zachwilson.t...|\n",
      "|-2145042879| -339390162|           2|[www.zachwilson.t...|\n",
      "|-2144980290| -240714045|          21|  [www.eczachly.com]|\n",
      "|-2144902711|-1998710212|           3|[zachwilson.techc...|\n",
      "|-2144880659| 1142619498|           3|  [www.eczachly.com]|\n",
      "|-2144056274|-1244458482|           1|[www.zachwilson.t...|\n",
      "|-2144030478|  543560539|           1|  [www.eczachly.com]|\n",
      "|-2143817878| -992956730|           2|  [www.eczachly.com]|\n",
      "+-----------+-----------+------------+--------------------+\n",
      "only showing top 20 rows\n",
      "\n"
     ]
    }
   ],
   "source": [
    "events_aggregated.show()"
   ]
  },
  {
   "cell_type": "code",
   "execution_count": 7,
   "id": "05e23907",
   "metadata": {},
   "outputs": [
    {
     "name": "stdout",
     "output_type": "stream",
     "text": [
      "== Physical Plan ==\n",
      "AdaptiveSparkPlan isFinalPlan=false\n",
      "+- ObjectHashAggregate(keys=[user_id#17], functions=[sum(event_counts#55L), collect_list(device_id#217, 0, 0)])\n",
      "   +- ObjectHashAggregate(keys=[user_id#17], functions=[partial_sum(event_counts#55L), partial_collect_list(device_id#217, 0, 0)])\n",
      "      +- Project [user_id#17, device_id#217, event_counts#55L]\n",
      "         +- SortMergeJoin [user_id#17], [user_id#216], Inner\n",
      "            :- Sort [user_id#17 ASC NULLS FIRST], false, 0\n",
      "            :  +- Exchange hashpartitioning(user_id#17, 4), ENSURE_REQUIREMENTS, [plan_id=187]\n",
      "            :     +- Filter isnotnull(user_id#17)\n",
      "            :        +- FileScan csv [user_id#17] Batched: false, DataFilters: [isnotnull(user_id#17)], Format: CSV, Location: InMemoryFileIndex(1 paths)[file:/home/iceberg/data/events.csv], PartitionFilters: [], PushedFilters: [IsNotNull(user_id)], ReadSchema: struct<user_id:int>\n",
      "            +- Sort [user_id#216 ASC NULLS FIRST], false, 0\n",
      "               +- Exchange hashpartitioning(user_id#216, 4), ENSURE_REQUIREMENTS, [plan_id=188]\n",
      "                  +- Filter isnotnull(user_id#216)\n",
      "                     +- InMemoryTableScan [user_id#216, device_id#217, event_counts#55L], [isnotnull(user_id#216)]\n",
      "                           +- InMemoryRelation [user_id#216, device_id#217, event_counts#55L, host_array#56], StorageLevel(disk, memory, deserialized, 1 replicas)\n",
      "                                 +- AdaptiveSparkPlan isFinalPlan=true\n",
      "                                    +- == Final Plan ==\n",
      "                                       ObjectHashAggregate(keys=[user_id#17, device_id#18], functions=[count(1), collect_list(distinct host#20, 0, 0)])\n",
      "                                       +- ShuffleQueryStage 1\n",
      "                                          +- Exchange hashpartitioning(user_id#17, device_id#18, 4), ENSURE_REQUIREMENTS, [plan_id=133]\n",
      "                                             +- ObjectHashAggregate(keys=[user_id#17, device_id#18], functions=[merge_count(1), partial_collect_list(distinct host#20, 0, 0)])\n",
      "                                                +- *(2) HashAggregate(keys=[user_id#17, device_id#18, host#20], functions=[merge_count(1)])\n",
      "                                                   +- AQEShuffleRead coalesced\n",
      "                                                      +- ShuffleQueryStage 0\n",
      "                                                         +- Exchange hashpartitioning(user_id#17, device_id#18, host#20, 4), ENSURE_REQUIREMENTS, [plan_id=104]\n",
      "                                                            +- *(1) HashAggregate(keys=[user_id#17, device_id#18, host#20], functions=[partial_count(1)])\n",
      "                                                               +- *(1) Filter isnotnull(user_id#17)\n",
      "                                                                  +- FileScan csv [user_id#17,device_id#18,host#20] Batched: false, DataFilters: [isnotnull(user_id#17)], Format: CSV, Location: InMemoryFileIndex(1 paths)[file:/home/iceberg/data/events.csv], PartitionFilters: [], PushedFilters: [IsNotNull(user_id)], ReadSchema: struct<user_id:int,device_id:int,host:string>\n",
      "                                    +- == Initial Plan ==\n",
      "                                       ObjectHashAggregate(keys=[user_id#17, device_id#18], functions=[count(1), collect_list(distinct host#20, 0, 0)])\n",
      "                                       +- Exchange hashpartitioning(user_id#17, device_id#18, 4), ENSURE_REQUIREMENTS, [plan_id=73]\n",
      "                                          +- ObjectHashAggregate(keys=[user_id#17, device_id#18], functions=[merge_count(1), partial_collect_list(distinct host#20, 0, 0)])\n",
      "                                             +- HashAggregate(keys=[user_id#17, device_id#18, host#20], functions=[merge_count(1)])\n",
      "                                                +- Exchange hashpartitioning(user_id#17, device_id#18, host#20, 4), ENSURE_REQUIREMENTS, [plan_id=69]\n",
      "                                                   +- HashAggregate(keys=[user_id#17, device_id#18, host#20], functions=[partial_count(1)])\n",
      "                                                      +- Filter isnotnull(user_id#17)\n",
      "                                                         +- FileScan csv [user_id#17,device_id#18,host#20] Batched: false, DataFilters: [isnotnull(user_id#17)], Format: CSV, Location: InMemoryFileIndex(1 paths)[file:/home/iceberg/data/events.csv], PartitionFilters: [], PushedFilters: [IsNotNull(user_id)], ReadSchema: struct<user_id:int,device_id:int,host:string>\n",
      "\n",
      "\n"
     ]
    }
   ],
   "source": [
    "users_and_devices = events.join(\n",
    "    events_aggregated,\n",
    "    'user_id'\n",
    ").groupBy('user_id').agg(\n",
    "    sf.sum(sf.col('event_counts')).alias('total_hits'), \n",
    "    sf.array_agg(sf.col('events.device_id')).alias('devices')\n",
    ")\n",
    "users_and_devices.explain()"
   ]
  },
  {
   "cell_type": "code",
   "execution_count": 8,
   "id": "9d8a1346",
   "metadata": {},
   "outputs": [
    {
     "name": "stdout",
     "output_type": "stream",
     "text": [
      "== Physical Plan ==\n",
      "AdaptiveSparkPlan isFinalPlan=false\n",
      "+- ObjectHashAggregate(keys=[device_id#47], functions=[max(device_type#50), collect_list(user_id#17, 0, 0)])\n",
      "   +- ObjectHashAggregate(keys=[device_id#47], functions=[partial_max(device_type#50), partial_collect_list(user_id#17, 0, 0)])\n",
      "      +- Project [device_id#47, device_type#50, user_id#17]\n",
      "         +- SortMergeJoin [device_id#47], [device_id#18], Inner\n",
      "            :- Sort [device_id#47 ASC NULLS FIRST], false, 0\n",
      "            :  +- Exchange hashpartitioning(device_id#47, 4), ENSURE_REQUIREMENTS, [plan_id=229]\n",
      "            :     +- Filter isnotnull(device_id#47)\n",
      "            :        +- FileScan csv [device_id#47,device_type#50] Batched: false, DataFilters: [isnotnull(device_id#47)], Format: CSV, Location: InMemoryFileIndex(1 paths)[file:/home/iceberg/data/devices.csv], PartitionFilters: [], PushedFilters: [IsNotNull(device_id)], ReadSchema: struct<device_id:int,device_type:string>\n",
      "            +- Sort [device_id#18 ASC NULLS FIRST], false, 0\n",
      "               +- Exchange hashpartitioning(device_id#18, 4), ENSURE_REQUIREMENTS, [plan_id=230]\n",
      "                  +- Filter isnotnull(device_id#18)\n",
      "                     +- InMemoryTableScan [user_id#17, device_id#18], [isnotnull(device_id#18)]\n",
      "                           +- InMemoryRelation [user_id#17, device_id#18, event_counts#55L, host_array#56], StorageLevel(disk, memory, deserialized, 1 replicas)\n",
      "                                 +- AdaptiveSparkPlan isFinalPlan=true\n",
      "                                    +- == Final Plan ==\n",
      "                                       ObjectHashAggregate(keys=[user_id#17, device_id#18], functions=[count(1), collect_list(distinct host#20, 0, 0)])\n",
      "                                       +- ShuffleQueryStage 1\n",
      "                                          +- Exchange hashpartitioning(user_id#17, device_id#18, 4), ENSURE_REQUIREMENTS, [plan_id=133]\n",
      "                                             +- ObjectHashAggregate(keys=[user_id#17, device_id#18], functions=[merge_count(1), partial_collect_list(distinct host#20, 0, 0)])\n",
      "                                                +- *(2) HashAggregate(keys=[user_id#17, device_id#18, host#20], functions=[merge_count(1)])\n",
      "                                                   +- AQEShuffleRead coalesced\n",
      "                                                      +- ShuffleQueryStage 0\n",
      "                                                         +- Exchange hashpartitioning(user_id#17, device_id#18, host#20, 4), ENSURE_REQUIREMENTS, [plan_id=104]\n",
      "                                                            +- *(1) HashAggregate(keys=[user_id#17, device_id#18, host#20], functions=[partial_count(1)])\n",
      "                                                               +- *(1) Filter isnotnull(user_id#17)\n",
      "                                                                  +- FileScan csv [user_id#17,device_id#18,host#20] Batched: false, DataFilters: [isnotnull(user_id#17)], Format: CSV, Location: InMemoryFileIndex(1 paths)[file:/home/iceberg/data/events.csv], PartitionFilters: [], PushedFilters: [IsNotNull(user_id)], ReadSchema: struct<user_id:int,device_id:int,host:string>\n",
      "                                    +- == Initial Plan ==\n",
      "                                       ObjectHashAggregate(keys=[user_id#17, device_id#18], functions=[count(1), collect_list(distinct host#20, 0, 0)])\n",
      "                                       +- Exchange hashpartitioning(user_id#17, device_id#18, 4), ENSURE_REQUIREMENTS, [plan_id=73]\n",
      "                                          +- ObjectHashAggregate(keys=[user_id#17, device_id#18], functions=[merge_count(1), partial_collect_list(distinct host#20, 0, 0)])\n",
      "                                             +- HashAggregate(keys=[user_id#17, device_id#18, host#20], functions=[merge_count(1)])\n",
      "                                                +- Exchange hashpartitioning(user_id#17, device_id#18, host#20, 4), ENSURE_REQUIREMENTS, [plan_id=69]\n",
      "                                                   +- HashAggregate(keys=[user_id#17, device_id#18, host#20], functions=[partial_count(1)])\n",
      "                                                      +- Filter isnotnull(user_id#17)\n",
      "                                                         +- FileScan csv [user_id#17,device_id#18,host#20] Batched: false, DataFilters: [isnotnull(user_id#17)], Format: CSV, Location: InMemoryFileIndex(1 paths)[file:/home/iceberg/data/events.csv], PartitionFilters: [], PushedFilters: [IsNotNull(user_id)], ReadSchema: struct<user_id:int,device_id:int,host:string>\n",
      "\n",
      "\n"
     ]
    }
   ],
   "source": [
    "devices_on_events = devices.join(\n",
    "    events_aggregated,\n",
    "    'device_id'\n",
    ").groupBy('device_id').agg(\n",
    "    sf.max(sf.col('device_type')).alias('device_type'),\n",
    "    sf.array_agg(sf.col('events.user_id')).alias('users')\n",
    ")\n",
    "\n",
    "devices_on_events.explain()"
   ]
  }
 ],
 "metadata": {
  "kernelspec": {
   "display_name": "Python 3 (ipykernel)",
   "language": "python",
   "name": "python3"
  }
 },
 "nbformat": 4,
 "nbformat_minor": 5
}
